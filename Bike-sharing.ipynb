{
 "cells": [
  {
   "cell_type": "markdown",
   "id": "1babf52f",
   "metadata": {},
   "source": [
    "## Regression - Bike Share dataset from the UCI machine learning repository"
   ]
  },
  {
   "cell_type": "code",
   "execution_count": 1,
   "id": "425067eb",
   "metadata": {},
   "outputs": [],
   "source": [
    "%matplotlib inline\n",
    "import sklearn\n",
    "import numpy as np\n",
    "import pandas as pd\n",
    "import matplotlib.pyplot as plt\n",
    "from sklearn import model_selection\n",
    "from sklearn import metrics\n",
    "from sklearn import neighbors, linear_model\n",
    "from sklearn.model_selection import train_test_split"
   ]
  },
  {
   "cell_type": "markdown",
   "id": "914ee812",
   "metadata": {},
   "source": [
    "### Load Data"
   ]
  },
  {
   "cell_type": "code",
   "execution_count": 2,
   "id": "aff24db7",
   "metadata": {},
   "outputs": [
    {
     "data": {
      "text/html": [
       "<div>\n",
       "<style scoped>\n",
       "    .dataframe tbody tr th:only-of-type {\n",
       "        vertical-align: middle;\n",
       "    }\n",
       "\n",
       "    .dataframe tbody tr th {\n",
       "        vertical-align: top;\n",
       "    }\n",
       "\n",
       "    .dataframe thead th {\n",
       "        text-align: right;\n",
       "    }\n",
       "</style>\n",
       "<table border=\"1\" class=\"dataframe\">\n",
       "  <thead>\n",
       "    <tr style=\"text-align: right;\">\n",
       "      <th></th>\n",
       "      <th>instant</th>\n",
       "      <th>dteday</th>\n",
       "      <th>season</th>\n",
       "      <th>yr</th>\n",
       "      <th>mnth</th>\n",
       "      <th>holiday</th>\n",
       "      <th>weekday</th>\n",
       "      <th>workingday</th>\n",
       "      <th>weathersit</th>\n",
       "      <th>temp</th>\n",
       "      <th>atemp</th>\n",
       "      <th>hum</th>\n",
       "      <th>windspeed</th>\n",
       "      <th>casual</th>\n",
       "      <th>registered</th>\n",
       "      <th>cnt</th>\n",
       "    </tr>\n",
       "  </thead>\n",
       "  <tbody>\n",
       "    <tr>\n",
       "      <th>0</th>\n",
       "      <td>1</td>\n",
       "      <td>2011-01-01</td>\n",
       "      <td>1</td>\n",
       "      <td>0</td>\n",
       "      <td>1</td>\n",
       "      <td>0</td>\n",
       "      <td>6</td>\n",
       "      <td>0</td>\n",
       "      <td>2</td>\n",
       "      <td>0.344167</td>\n",
       "      <td>0.363625</td>\n",
       "      <td>0.805833</td>\n",
       "      <td>0.160446</td>\n",
       "      <td>331</td>\n",
       "      <td>654</td>\n",
       "      <td>985</td>\n",
       "    </tr>\n",
       "    <tr>\n",
       "      <th>1</th>\n",
       "      <td>2</td>\n",
       "      <td>2011-01-02</td>\n",
       "      <td>1</td>\n",
       "      <td>0</td>\n",
       "      <td>1</td>\n",
       "      <td>0</td>\n",
       "      <td>0</td>\n",
       "      <td>0</td>\n",
       "      <td>2</td>\n",
       "      <td>0.363478</td>\n",
       "      <td>0.353739</td>\n",
       "      <td>0.696087</td>\n",
       "      <td>0.248539</td>\n",
       "      <td>131</td>\n",
       "      <td>670</td>\n",
       "      <td>801</td>\n",
       "    </tr>\n",
       "    <tr>\n",
       "      <th>2</th>\n",
       "      <td>3</td>\n",
       "      <td>2011-01-03</td>\n",
       "      <td>1</td>\n",
       "      <td>0</td>\n",
       "      <td>1</td>\n",
       "      <td>0</td>\n",
       "      <td>1</td>\n",
       "      <td>1</td>\n",
       "      <td>1</td>\n",
       "      <td>0.196364</td>\n",
       "      <td>0.189405</td>\n",
       "      <td>0.437273</td>\n",
       "      <td>0.248309</td>\n",
       "      <td>120</td>\n",
       "      <td>1229</td>\n",
       "      <td>1349</td>\n",
       "    </tr>\n",
       "    <tr>\n",
       "      <th>3</th>\n",
       "      <td>4</td>\n",
       "      <td>2011-01-04</td>\n",
       "      <td>1</td>\n",
       "      <td>0</td>\n",
       "      <td>1</td>\n",
       "      <td>0</td>\n",
       "      <td>2</td>\n",
       "      <td>1</td>\n",
       "      <td>1</td>\n",
       "      <td>0.200000</td>\n",
       "      <td>0.212122</td>\n",
       "      <td>0.590435</td>\n",
       "      <td>0.160296</td>\n",
       "      <td>108</td>\n",
       "      <td>1454</td>\n",
       "      <td>1562</td>\n",
       "    </tr>\n",
       "    <tr>\n",
       "      <th>4</th>\n",
       "      <td>5</td>\n",
       "      <td>2011-01-05</td>\n",
       "      <td>1</td>\n",
       "      <td>0</td>\n",
       "      <td>1</td>\n",
       "      <td>0</td>\n",
       "      <td>3</td>\n",
       "      <td>1</td>\n",
       "      <td>1</td>\n",
       "      <td>0.226957</td>\n",
       "      <td>0.229270</td>\n",
       "      <td>0.436957</td>\n",
       "      <td>0.186900</td>\n",
       "      <td>82</td>\n",
       "      <td>1518</td>\n",
       "      <td>1600</td>\n",
       "    </tr>\n",
       "  </tbody>\n",
       "</table>\n",
       "</div>"
      ],
      "text/plain": [
       "   instant      dteday  season  yr  mnth  holiday  weekday  workingday  \\\n",
       "0        1  2011-01-01       1   0     1        0        6           0   \n",
       "1        2  2011-01-02       1   0     1        0        0           0   \n",
       "2        3  2011-01-03       1   0     1        0        1           1   \n",
       "3        4  2011-01-04       1   0     1        0        2           1   \n",
       "4        5  2011-01-05       1   0     1        0        3           1   \n",
       "\n",
       "   weathersit      temp     atemp       hum  windspeed  casual  registered  \\\n",
       "0           2  0.344167  0.363625  0.805833   0.160446     331         654   \n",
       "1           2  0.363478  0.353739  0.696087   0.248539     131         670   \n",
       "2           1  0.196364  0.189405  0.437273   0.248309     120        1229   \n",
       "3           1  0.200000  0.212122  0.590435   0.160296     108        1454   \n",
       "4           1  0.226957  0.229270  0.436957   0.186900      82        1518   \n",
       "\n",
       "    cnt  \n",
       "0   985  \n",
       "1   801  \n",
       "2  1349  \n",
       "3  1562  \n",
       "4  1600  "
      ]
     },
     "execution_count": 2,
     "metadata": {},
     "output_type": "execute_result"
    }
   ],
   "source": [
    "day_df = pd.read_csv('day.csv')\n",
    "hour_df = pd.read_csv('hour.csv')\n",
    "day_df.head()"
   ]
  },
  {
   "cell_type": "code",
   "execution_count": 3,
   "id": "30f422f0",
   "metadata": {},
   "outputs": [
    {
     "data": {
      "text/html": [
       "<div>\n",
       "<style scoped>\n",
       "    .dataframe tbody tr th:only-of-type {\n",
       "        vertical-align: middle;\n",
       "    }\n",
       "\n",
       "    .dataframe tbody tr th {\n",
       "        vertical-align: top;\n",
       "    }\n",
       "\n",
       "    .dataframe thead th {\n",
       "        text-align: right;\n",
       "    }\n",
       "</style>\n",
       "<table border=\"1\" class=\"dataframe\">\n",
       "  <thead>\n",
       "    <tr style=\"text-align: right;\">\n",
       "      <th></th>\n",
       "      <th>instant</th>\n",
       "      <th>dteday</th>\n",
       "      <th>season</th>\n",
       "      <th>yr</th>\n",
       "      <th>mnth</th>\n",
       "      <th>hr</th>\n",
       "      <th>holiday</th>\n",
       "      <th>weekday</th>\n",
       "      <th>workingday</th>\n",
       "      <th>weathersit</th>\n",
       "      <th>temp</th>\n",
       "      <th>atemp</th>\n",
       "      <th>hum</th>\n",
       "      <th>windspeed</th>\n",
       "      <th>casual</th>\n",
       "      <th>registered</th>\n",
       "      <th>cnt</th>\n",
       "    </tr>\n",
       "  </thead>\n",
       "  <tbody>\n",
       "    <tr>\n",
       "      <th>0</th>\n",
       "      <td>1</td>\n",
       "      <td>2011-01-01</td>\n",
       "      <td>1</td>\n",
       "      <td>0</td>\n",
       "      <td>1</td>\n",
       "      <td>0</td>\n",
       "      <td>0</td>\n",
       "      <td>6</td>\n",
       "      <td>0</td>\n",
       "      <td>1</td>\n",
       "      <td>0.24</td>\n",
       "      <td>0.2879</td>\n",
       "      <td>0.81</td>\n",
       "      <td>0.0</td>\n",
       "      <td>3</td>\n",
       "      <td>13</td>\n",
       "      <td>16</td>\n",
       "    </tr>\n",
       "    <tr>\n",
       "      <th>1</th>\n",
       "      <td>2</td>\n",
       "      <td>2011-01-01</td>\n",
       "      <td>1</td>\n",
       "      <td>0</td>\n",
       "      <td>1</td>\n",
       "      <td>1</td>\n",
       "      <td>0</td>\n",
       "      <td>6</td>\n",
       "      <td>0</td>\n",
       "      <td>1</td>\n",
       "      <td>0.22</td>\n",
       "      <td>0.2727</td>\n",
       "      <td>0.80</td>\n",
       "      <td>0.0</td>\n",
       "      <td>8</td>\n",
       "      <td>32</td>\n",
       "      <td>40</td>\n",
       "    </tr>\n",
       "    <tr>\n",
       "      <th>2</th>\n",
       "      <td>3</td>\n",
       "      <td>2011-01-01</td>\n",
       "      <td>1</td>\n",
       "      <td>0</td>\n",
       "      <td>1</td>\n",
       "      <td>2</td>\n",
       "      <td>0</td>\n",
       "      <td>6</td>\n",
       "      <td>0</td>\n",
       "      <td>1</td>\n",
       "      <td>0.22</td>\n",
       "      <td>0.2727</td>\n",
       "      <td>0.80</td>\n",
       "      <td>0.0</td>\n",
       "      <td>5</td>\n",
       "      <td>27</td>\n",
       "      <td>32</td>\n",
       "    </tr>\n",
       "    <tr>\n",
       "      <th>3</th>\n",
       "      <td>4</td>\n",
       "      <td>2011-01-01</td>\n",
       "      <td>1</td>\n",
       "      <td>0</td>\n",
       "      <td>1</td>\n",
       "      <td>3</td>\n",
       "      <td>0</td>\n",
       "      <td>6</td>\n",
       "      <td>0</td>\n",
       "      <td>1</td>\n",
       "      <td>0.24</td>\n",
       "      <td>0.2879</td>\n",
       "      <td>0.75</td>\n",
       "      <td>0.0</td>\n",
       "      <td>3</td>\n",
       "      <td>10</td>\n",
       "      <td>13</td>\n",
       "    </tr>\n",
       "    <tr>\n",
       "      <th>4</th>\n",
       "      <td>5</td>\n",
       "      <td>2011-01-01</td>\n",
       "      <td>1</td>\n",
       "      <td>0</td>\n",
       "      <td>1</td>\n",
       "      <td>4</td>\n",
       "      <td>0</td>\n",
       "      <td>6</td>\n",
       "      <td>0</td>\n",
       "      <td>1</td>\n",
       "      <td>0.24</td>\n",
       "      <td>0.2879</td>\n",
       "      <td>0.75</td>\n",
       "      <td>0.0</td>\n",
       "      <td>0</td>\n",
       "      <td>1</td>\n",
       "      <td>1</td>\n",
       "    </tr>\n",
       "  </tbody>\n",
       "</table>\n",
       "</div>"
      ],
      "text/plain": [
       "   instant      dteday  season  yr  mnth  hr  holiday  weekday  workingday  \\\n",
       "0        1  2011-01-01       1   0     1   0        0        6           0   \n",
       "1        2  2011-01-01       1   0     1   1        0        6           0   \n",
       "2        3  2011-01-01       1   0     1   2        0        6           0   \n",
       "3        4  2011-01-01       1   0     1   3        0        6           0   \n",
       "4        5  2011-01-01       1   0     1   4        0        6           0   \n",
       "\n",
       "   weathersit  temp   atemp   hum  windspeed  casual  registered  cnt  \n",
       "0           1  0.24  0.2879  0.81        0.0       3          13   16  \n",
       "1           1  0.22  0.2727  0.80        0.0       8          32   40  \n",
       "2           1  0.22  0.2727  0.80        0.0       5          27   32  \n",
       "3           1  0.24  0.2879  0.75        0.0       3          10   13  \n",
       "4           1  0.24  0.2879  0.75        0.0       0           1    1  "
      ]
     },
     "execution_count": 3,
     "metadata": {},
     "output_type": "execute_result"
    }
   ],
   "source": [
    "hour_df.head()"
   ]
  },
  {
   "cell_type": "markdown",
   "id": "973bc61c",
   "metadata": {},
   "source": [
    "### Understanding Day Data"
   ]
  },
  {
   "cell_type": "code",
   "execution_count": 4,
   "id": "5ff727bf",
   "metadata": {},
   "outputs": [
    {
     "data": {
      "text/plain": [
       "instant         int64\n",
       "dteday         object\n",
       "season          int64\n",
       "yr              int64\n",
       "mnth            int64\n",
       "holiday         int64\n",
       "weekday         int64\n",
       "workingday      int64\n",
       "weathersit      int64\n",
       "temp          float64\n",
       "atemp         float64\n",
       "hum           float64\n",
       "windspeed     float64\n",
       "casual          int64\n",
       "registered      int64\n",
       "cnt             int64\n",
       "dtype: object"
      ]
     },
     "execution_count": 4,
     "metadata": {},
     "output_type": "execute_result"
    }
   ],
   "source": [
    "day_df.dtypes"
   ]
  },
  {
   "cell_type": "code",
   "execution_count": 5,
   "id": "605bf723",
   "metadata": {},
   "outputs": [
    {
     "data": {
      "text/plain": [
       "(731, 16)"
      ]
     },
     "execution_count": 5,
     "metadata": {},
     "output_type": "execute_result"
    }
   ],
   "source": [
    "day_df.shape"
   ]
  },
  {
   "cell_type": "code",
   "execution_count": 6,
   "id": "b37bf65c",
   "metadata": {
    "scrolled": true
   },
   "outputs": [
    {
     "data": {
      "text/html": [
       "<div>\n",
       "<style scoped>\n",
       "    .dataframe tbody tr th:only-of-type {\n",
       "        vertical-align: middle;\n",
       "    }\n",
       "\n",
       "    .dataframe tbody tr th {\n",
       "        vertical-align: top;\n",
       "    }\n",
       "\n",
       "    .dataframe thead th {\n",
       "        text-align: right;\n",
       "    }\n",
       "</style>\n",
       "<table border=\"1\" class=\"dataframe\">\n",
       "  <thead>\n",
       "    <tr style=\"text-align: right;\">\n",
       "      <th></th>\n",
       "      <th>instant</th>\n",
       "      <th>season</th>\n",
       "      <th>yr</th>\n",
       "      <th>mnth</th>\n",
       "      <th>holiday</th>\n",
       "      <th>weekday</th>\n",
       "      <th>workingday</th>\n",
       "      <th>weathersit</th>\n",
       "      <th>temp</th>\n",
       "      <th>atemp</th>\n",
       "      <th>hum</th>\n",
       "      <th>windspeed</th>\n",
       "      <th>casual</th>\n",
       "      <th>registered</th>\n",
       "      <th>cnt</th>\n",
       "    </tr>\n",
       "  </thead>\n",
       "  <tbody>\n",
       "    <tr>\n",
       "      <th>count</th>\n",
       "      <td>731.00</td>\n",
       "      <td>731.00</td>\n",
       "      <td>731.0</td>\n",
       "      <td>731.00</td>\n",
       "      <td>731.00</td>\n",
       "      <td>731.0</td>\n",
       "      <td>731.00</td>\n",
       "      <td>731.00</td>\n",
       "      <td>731.00</td>\n",
       "      <td>731.00</td>\n",
       "      <td>731.00</td>\n",
       "      <td>731.00</td>\n",
       "      <td>731.00</td>\n",
       "      <td>731.00</td>\n",
       "      <td>731.00</td>\n",
       "    </tr>\n",
       "    <tr>\n",
       "      <th>mean</th>\n",
       "      <td>366.00</td>\n",
       "      <td>2.50</td>\n",
       "      <td>0.5</td>\n",
       "      <td>6.52</td>\n",
       "      <td>0.03</td>\n",
       "      <td>3.0</td>\n",
       "      <td>0.68</td>\n",
       "      <td>1.40</td>\n",
       "      <td>0.50</td>\n",
       "      <td>0.47</td>\n",
       "      <td>0.63</td>\n",
       "      <td>0.19</td>\n",
       "      <td>848.18</td>\n",
       "      <td>3656.17</td>\n",
       "      <td>4504.35</td>\n",
       "    </tr>\n",
       "    <tr>\n",
       "      <th>std</th>\n",
       "      <td>211.17</td>\n",
       "      <td>1.11</td>\n",
       "      <td>0.5</td>\n",
       "      <td>3.45</td>\n",
       "      <td>0.17</td>\n",
       "      <td>2.0</td>\n",
       "      <td>0.47</td>\n",
       "      <td>0.54</td>\n",
       "      <td>0.18</td>\n",
       "      <td>0.16</td>\n",
       "      <td>0.14</td>\n",
       "      <td>0.08</td>\n",
       "      <td>686.62</td>\n",
       "      <td>1560.26</td>\n",
       "      <td>1937.21</td>\n",
       "    </tr>\n",
       "    <tr>\n",
       "      <th>min</th>\n",
       "      <td>1.00</td>\n",
       "      <td>1.00</td>\n",
       "      <td>0.0</td>\n",
       "      <td>1.00</td>\n",
       "      <td>0.00</td>\n",
       "      <td>0.0</td>\n",
       "      <td>0.00</td>\n",
       "      <td>1.00</td>\n",
       "      <td>0.06</td>\n",
       "      <td>0.08</td>\n",
       "      <td>0.00</td>\n",
       "      <td>0.02</td>\n",
       "      <td>2.00</td>\n",
       "      <td>20.00</td>\n",
       "      <td>22.00</td>\n",
       "    </tr>\n",
       "    <tr>\n",
       "      <th>25%</th>\n",
       "      <td>183.50</td>\n",
       "      <td>2.00</td>\n",
       "      <td>0.0</td>\n",
       "      <td>4.00</td>\n",
       "      <td>0.00</td>\n",
       "      <td>1.0</td>\n",
       "      <td>0.00</td>\n",
       "      <td>1.00</td>\n",
       "      <td>0.34</td>\n",
       "      <td>0.34</td>\n",
       "      <td>0.52</td>\n",
       "      <td>0.13</td>\n",
       "      <td>315.50</td>\n",
       "      <td>2497.00</td>\n",
       "      <td>3152.00</td>\n",
       "    </tr>\n",
       "    <tr>\n",
       "      <th>50%</th>\n",
       "      <td>366.00</td>\n",
       "      <td>3.00</td>\n",
       "      <td>1.0</td>\n",
       "      <td>7.00</td>\n",
       "      <td>0.00</td>\n",
       "      <td>3.0</td>\n",
       "      <td>1.00</td>\n",
       "      <td>1.00</td>\n",
       "      <td>0.50</td>\n",
       "      <td>0.49</td>\n",
       "      <td>0.63</td>\n",
       "      <td>0.18</td>\n",
       "      <td>713.00</td>\n",
       "      <td>3662.00</td>\n",
       "      <td>4548.00</td>\n",
       "    </tr>\n",
       "    <tr>\n",
       "      <th>75%</th>\n",
       "      <td>548.50</td>\n",
       "      <td>3.00</td>\n",
       "      <td>1.0</td>\n",
       "      <td>10.00</td>\n",
       "      <td>0.00</td>\n",
       "      <td>5.0</td>\n",
       "      <td>1.00</td>\n",
       "      <td>2.00</td>\n",
       "      <td>0.66</td>\n",
       "      <td>0.61</td>\n",
       "      <td>0.73</td>\n",
       "      <td>0.23</td>\n",
       "      <td>1096.00</td>\n",
       "      <td>4776.50</td>\n",
       "      <td>5956.00</td>\n",
       "    </tr>\n",
       "    <tr>\n",
       "      <th>max</th>\n",
       "      <td>731.00</td>\n",
       "      <td>4.00</td>\n",
       "      <td>1.0</td>\n",
       "      <td>12.00</td>\n",
       "      <td>1.00</td>\n",
       "      <td>6.0</td>\n",
       "      <td>1.00</td>\n",
       "      <td>3.00</td>\n",
       "      <td>0.86</td>\n",
       "      <td>0.84</td>\n",
       "      <td>0.97</td>\n",
       "      <td>0.51</td>\n",
       "      <td>3410.00</td>\n",
       "      <td>6946.00</td>\n",
       "      <td>8714.00</td>\n",
       "    </tr>\n",
       "  </tbody>\n",
       "</table>\n",
       "</div>"
      ],
      "text/plain": [
       "       instant  season     yr    mnth  holiday  weekday  workingday  \\\n",
       "count   731.00  731.00  731.0  731.00   731.00    731.0      731.00   \n",
       "mean    366.00    2.50    0.5    6.52     0.03      3.0        0.68   \n",
       "std     211.17    1.11    0.5    3.45     0.17      2.0        0.47   \n",
       "min       1.00    1.00    0.0    1.00     0.00      0.0        0.00   \n",
       "25%     183.50    2.00    0.0    4.00     0.00      1.0        0.00   \n",
       "50%     366.00    3.00    1.0    7.00     0.00      3.0        1.00   \n",
       "75%     548.50    3.00    1.0   10.00     0.00      5.0        1.00   \n",
       "max     731.00    4.00    1.0   12.00     1.00      6.0        1.00   \n",
       "\n",
       "       weathersit    temp   atemp     hum  windspeed   casual  registered  \\\n",
       "count      731.00  731.00  731.00  731.00     731.00   731.00      731.00   \n",
       "mean         1.40    0.50    0.47    0.63       0.19   848.18     3656.17   \n",
       "std          0.54    0.18    0.16    0.14       0.08   686.62     1560.26   \n",
       "min          1.00    0.06    0.08    0.00       0.02     2.00       20.00   \n",
       "25%          1.00    0.34    0.34    0.52       0.13   315.50     2497.00   \n",
       "50%          1.00    0.50    0.49    0.63       0.18   713.00     3662.00   \n",
       "75%          2.00    0.66    0.61    0.73       0.23  1096.00     4776.50   \n",
       "max          3.00    0.86    0.84    0.97       0.51  3410.00     6946.00   \n",
       "\n",
       "           cnt  \n",
       "count   731.00  \n",
       "mean   4504.35  \n",
       "std    1937.21  \n",
       "min      22.00  \n",
       "25%    3152.00  \n",
       "50%    4548.00  \n",
       "75%    5956.00  \n",
       "max    8714.00  "
      ]
     },
     "execution_count": 6,
     "metadata": {},
     "output_type": "execute_result"
    }
   ],
   "source": [
    "day_df.describe().round(2)"
   ]
  },
  {
   "cell_type": "code",
   "execution_count": 7,
   "id": "57c08d48",
   "metadata": {},
   "outputs": [
    {
     "data": {
      "text/html": [
       "<div>\n",
       "<style scoped>\n",
       "    .dataframe tbody tr th:only-of-type {\n",
       "        vertical-align: middle;\n",
       "    }\n",
       "\n",
       "    .dataframe tbody tr th {\n",
       "        vertical-align: top;\n",
       "    }\n",
       "\n",
       "    .dataframe thead th {\n",
       "        text-align: right;\n",
       "    }\n",
       "</style>\n",
       "<table border=\"1\" class=\"dataframe\">\n",
       "  <thead>\n",
       "    <tr style=\"text-align: right;\">\n",
       "      <th></th>\n",
       "      <th>instant</th>\n",
       "      <th>season</th>\n",
       "      <th>yr</th>\n",
       "      <th>mnth</th>\n",
       "      <th>holiday</th>\n",
       "      <th>weekday</th>\n",
       "      <th>workingday</th>\n",
       "      <th>weathersit</th>\n",
       "      <th>temp</th>\n",
       "      <th>atemp</th>\n",
       "      <th>hum</th>\n",
       "      <th>windspeed</th>\n",
       "      <th>casual</th>\n",
       "      <th>registered</th>\n",
       "      <th>cnt</th>\n",
       "    </tr>\n",
       "  </thead>\n",
       "  <tbody>\n",
       "    <tr>\n",
       "      <th>instant</th>\n",
       "      <td>1.00</td>\n",
       "      <td>0.41</td>\n",
       "      <td>0.87</td>\n",
       "      <td>0.50</td>\n",
       "      <td>0.02</td>\n",
       "      <td>-0.00</td>\n",
       "      <td>-0.00</td>\n",
       "      <td>-0.02</td>\n",
       "      <td>0.15</td>\n",
       "      <td>0.15</td>\n",
       "      <td>0.02</td>\n",
       "      <td>-0.11</td>\n",
       "      <td>0.28</td>\n",
       "      <td>0.66</td>\n",
       "      <td>0.63</td>\n",
       "    </tr>\n",
       "    <tr>\n",
       "      <th>season</th>\n",
       "      <td>0.41</td>\n",
       "      <td>1.00</td>\n",
       "      <td>-0.00</td>\n",
       "      <td>0.83</td>\n",
       "      <td>-0.01</td>\n",
       "      <td>-0.00</td>\n",
       "      <td>0.01</td>\n",
       "      <td>0.02</td>\n",
       "      <td>0.33</td>\n",
       "      <td>0.34</td>\n",
       "      <td>0.21</td>\n",
       "      <td>-0.23</td>\n",
       "      <td>0.21</td>\n",
       "      <td>0.41</td>\n",
       "      <td>0.41</td>\n",
       "    </tr>\n",
       "    <tr>\n",
       "      <th>yr</th>\n",
       "      <td>0.87</td>\n",
       "      <td>-0.00</td>\n",
       "      <td>1.00</td>\n",
       "      <td>-0.00</td>\n",
       "      <td>0.01</td>\n",
       "      <td>-0.01</td>\n",
       "      <td>-0.00</td>\n",
       "      <td>-0.05</td>\n",
       "      <td>0.05</td>\n",
       "      <td>0.05</td>\n",
       "      <td>-0.11</td>\n",
       "      <td>-0.01</td>\n",
       "      <td>0.25</td>\n",
       "      <td>0.59</td>\n",
       "      <td>0.57</td>\n",
       "    </tr>\n",
       "    <tr>\n",
       "      <th>mnth</th>\n",
       "      <td>0.50</td>\n",
       "      <td>0.83</td>\n",
       "      <td>-0.00</td>\n",
       "      <td>1.00</td>\n",
       "      <td>0.02</td>\n",
       "      <td>0.01</td>\n",
       "      <td>-0.01</td>\n",
       "      <td>0.04</td>\n",
       "      <td>0.22</td>\n",
       "      <td>0.23</td>\n",
       "      <td>0.22</td>\n",
       "      <td>-0.21</td>\n",
       "      <td>0.12</td>\n",
       "      <td>0.29</td>\n",
       "      <td>0.28</td>\n",
       "    </tr>\n",
       "    <tr>\n",
       "      <th>holiday</th>\n",
       "      <td>0.02</td>\n",
       "      <td>-0.01</td>\n",
       "      <td>0.01</td>\n",
       "      <td>0.02</td>\n",
       "      <td>1.00</td>\n",
       "      <td>-0.10</td>\n",
       "      <td>-0.25</td>\n",
       "      <td>-0.03</td>\n",
       "      <td>-0.03</td>\n",
       "      <td>-0.03</td>\n",
       "      <td>-0.02</td>\n",
       "      <td>0.01</td>\n",
       "      <td>0.05</td>\n",
       "      <td>-0.11</td>\n",
       "      <td>-0.07</td>\n",
       "    </tr>\n",
       "    <tr>\n",
       "      <th>weekday</th>\n",
       "      <td>-0.00</td>\n",
       "      <td>-0.00</td>\n",
       "      <td>-0.01</td>\n",
       "      <td>0.01</td>\n",
       "      <td>-0.10</td>\n",
       "      <td>1.00</td>\n",
       "      <td>0.04</td>\n",
       "      <td>0.03</td>\n",
       "      <td>-0.00</td>\n",
       "      <td>-0.01</td>\n",
       "      <td>-0.05</td>\n",
       "      <td>0.01</td>\n",
       "      <td>0.06</td>\n",
       "      <td>0.06</td>\n",
       "      <td>0.07</td>\n",
       "    </tr>\n",
       "    <tr>\n",
       "      <th>workingday</th>\n",
       "      <td>-0.00</td>\n",
       "      <td>0.01</td>\n",
       "      <td>-0.00</td>\n",
       "      <td>-0.01</td>\n",
       "      <td>-0.25</td>\n",
       "      <td>0.04</td>\n",
       "      <td>1.00</td>\n",
       "      <td>0.06</td>\n",
       "      <td>0.05</td>\n",
       "      <td>0.05</td>\n",
       "      <td>0.02</td>\n",
       "      <td>-0.02</td>\n",
       "      <td>-0.52</td>\n",
       "      <td>0.30</td>\n",
       "      <td>0.06</td>\n",
       "    </tr>\n",
       "    <tr>\n",
       "      <th>weathersit</th>\n",
       "      <td>-0.02</td>\n",
       "      <td>0.02</td>\n",
       "      <td>-0.05</td>\n",
       "      <td>0.04</td>\n",
       "      <td>-0.03</td>\n",
       "      <td>0.03</td>\n",
       "      <td>0.06</td>\n",
       "      <td>1.00</td>\n",
       "      <td>-0.12</td>\n",
       "      <td>-0.12</td>\n",
       "      <td>0.59</td>\n",
       "      <td>0.04</td>\n",
       "      <td>-0.25</td>\n",
       "      <td>-0.26</td>\n",
       "      <td>-0.30</td>\n",
       "    </tr>\n",
       "    <tr>\n",
       "      <th>temp</th>\n",
       "      <td>0.15</td>\n",
       "      <td>0.33</td>\n",
       "      <td>0.05</td>\n",
       "      <td>0.22</td>\n",
       "      <td>-0.03</td>\n",
       "      <td>-0.00</td>\n",
       "      <td>0.05</td>\n",
       "      <td>-0.12</td>\n",
       "      <td>1.00</td>\n",
       "      <td>0.99</td>\n",
       "      <td>0.13</td>\n",
       "      <td>-0.16</td>\n",
       "      <td>0.54</td>\n",
       "      <td>0.54</td>\n",
       "      <td>0.63</td>\n",
       "    </tr>\n",
       "    <tr>\n",
       "      <th>atemp</th>\n",
       "      <td>0.15</td>\n",
       "      <td>0.34</td>\n",
       "      <td>0.05</td>\n",
       "      <td>0.23</td>\n",
       "      <td>-0.03</td>\n",
       "      <td>-0.01</td>\n",
       "      <td>0.05</td>\n",
       "      <td>-0.12</td>\n",
       "      <td>0.99</td>\n",
       "      <td>1.00</td>\n",
       "      <td>0.14</td>\n",
       "      <td>-0.18</td>\n",
       "      <td>0.54</td>\n",
       "      <td>0.54</td>\n",
       "      <td>0.63</td>\n",
       "    </tr>\n",
       "    <tr>\n",
       "      <th>hum</th>\n",
       "      <td>0.02</td>\n",
       "      <td>0.21</td>\n",
       "      <td>-0.11</td>\n",
       "      <td>0.22</td>\n",
       "      <td>-0.02</td>\n",
       "      <td>-0.05</td>\n",
       "      <td>0.02</td>\n",
       "      <td>0.59</td>\n",
       "      <td>0.13</td>\n",
       "      <td>0.14</td>\n",
       "      <td>1.00</td>\n",
       "      <td>-0.25</td>\n",
       "      <td>-0.08</td>\n",
       "      <td>-0.09</td>\n",
       "      <td>-0.10</td>\n",
       "    </tr>\n",
       "    <tr>\n",
       "      <th>windspeed</th>\n",
       "      <td>-0.11</td>\n",
       "      <td>-0.23</td>\n",
       "      <td>-0.01</td>\n",
       "      <td>-0.21</td>\n",
       "      <td>0.01</td>\n",
       "      <td>0.01</td>\n",
       "      <td>-0.02</td>\n",
       "      <td>0.04</td>\n",
       "      <td>-0.16</td>\n",
       "      <td>-0.18</td>\n",
       "      <td>-0.25</td>\n",
       "      <td>1.00</td>\n",
       "      <td>-0.17</td>\n",
       "      <td>-0.22</td>\n",
       "      <td>-0.23</td>\n",
       "    </tr>\n",
       "    <tr>\n",
       "      <th>casual</th>\n",
       "      <td>0.28</td>\n",
       "      <td>0.21</td>\n",
       "      <td>0.25</td>\n",
       "      <td>0.12</td>\n",
       "      <td>0.05</td>\n",
       "      <td>0.06</td>\n",
       "      <td>-0.52</td>\n",
       "      <td>-0.25</td>\n",
       "      <td>0.54</td>\n",
       "      <td>0.54</td>\n",
       "      <td>-0.08</td>\n",
       "      <td>-0.17</td>\n",
       "      <td>1.00</td>\n",
       "      <td>0.40</td>\n",
       "      <td>0.67</td>\n",
       "    </tr>\n",
       "    <tr>\n",
       "      <th>registered</th>\n",
       "      <td>0.66</td>\n",
       "      <td>0.41</td>\n",
       "      <td>0.59</td>\n",
       "      <td>0.29</td>\n",
       "      <td>-0.11</td>\n",
       "      <td>0.06</td>\n",
       "      <td>0.30</td>\n",
       "      <td>-0.26</td>\n",
       "      <td>0.54</td>\n",
       "      <td>0.54</td>\n",
       "      <td>-0.09</td>\n",
       "      <td>-0.22</td>\n",
       "      <td>0.40</td>\n",
       "      <td>1.00</td>\n",
       "      <td>0.95</td>\n",
       "    </tr>\n",
       "    <tr>\n",
       "      <th>cnt</th>\n",
       "      <td>0.63</td>\n",
       "      <td>0.41</td>\n",
       "      <td>0.57</td>\n",
       "      <td>0.28</td>\n",
       "      <td>-0.07</td>\n",
       "      <td>0.07</td>\n",
       "      <td>0.06</td>\n",
       "      <td>-0.30</td>\n",
       "      <td>0.63</td>\n",
       "      <td>0.63</td>\n",
       "      <td>-0.10</td>\n",
       "      <td>-0.23</td>\n",
       "      <td>0.67</td>\n",
       "      <td>0.95</td>\n",
       "      <td>1.00</td>\n",
       "    </tr>\n",
       "  </tbody>\n",
       "</table>\n",
       "</div>"
      ],
      "text/plain": [
       "            instant  season    yr  mnth  holiday  weekday  workingday  \\\n",
       "instant        1.00    0.41  0.87  0.50     0.02    -0.00       -0.00   \n",
       "season         0.41    1.00 -0.00  0.83    -0.01    -0.00        0.01   \n",
       "yr             0.87   -0.00  1.00 -0.00     0.01    -0.01       -0.00   \n",
       "mnth           0.50    0.83 -0.00  1.00     0.02     0.01       -0.01   \n",
       "holiday        0.02   -0.01  0.01  0.02     1.00    -0.10       -0.25   \n",
       "weekday       -0.00   -0.00 -0.01  0.01    -0.10     1.00        0.04   \n",
       "workingday    -0.00    0.01 -0.00 -0.01    -0.25     0.04        1.00   \n",
       "weathersit    -0.02    0.02 -0.05  0.04    -0.03     0.03        0.06   \n",
       "temp           0.15    0.33  0.05  0.22    -0.03    -0.00        0.05   \n",
       "atemp          0.15    0.34  0.05  0.23    -0.03    -0.01        0.05   \n",
       "hum            0.02    0.21 -0.11  0.22    -0.02    -0.05        0.02   \n",
       "windspeed     -0.11   -0.23 -0.01 -0.21     0.01     0.01       -0.02   \n",
       "casual         0.28    0.21  0.25  0.12     0.05     0.06       -0.52   \n",
       "registered     0.66    0.41  0.59  0.29    -0.11     0.06        0.30   \n",
       "cnt            0.63    0.41  0.57  0.28    -0.07     0.07        0.06   \n",
       "\n",
       "            weathersit  temp  atemp   hum  windspeed  casual  registered   cnt  \n",
       "instant          -0.02  0.15   0.15  0.02      -0.11    0.28        0.66  0.63  \n",
       "season            0.02  0.33   0.34  0.21      -0.23    0.21        0.41  0.41  \n",
       "yr               -0.05  0.05   0.05 -0.11      -0.01    0.25        0.59  0.57  \n",
       "mnth              0.04  0.22   0.23  0.22      -0.21    0.12        0.29  0.28  \n",
       "holiday          -0.03 -0.03  -0.03 -0.02       0.01    0.05       -0.11 -0.07  \n",
       "weekday           0.03 -0.00  -0.01 -0.05       0.01    0.06        0.06  0.07  \n",
       "workingday        0.06  0.05   0.05  0.02      -0.02   -0.52        0.30  0.06  \n",
       "weathersit        1.00 -0.12  -0.12  0.59       0.04   -0.25       -0.26 -0.30  \n",
       "temp             -0.12  1.00   0.99  0.13      -0.16    0.54        0.54  0.63  \n",
       "atemp            -0.12  0.99   1.00  0.14      -0.18    0.54        0.54  0.63  \n",
       "hum               0.59  0.13   0.14  1.00      -0.25   -0.08       -0.09 -0.10  \n",
       "windspeed         0.04 -0.16  -0.18 -0.25       1.00   -0.17       -0.22 -0.23  \n",
       "casual           -0.25  0.54   0.54 -0.08      -0.17    1.00        0.40  0.67  \n",
       "registered       -0.26  0.54   0.54 -0.09      -0.22    0.40        1.00  0.95  \n",
       "cnt              -0.30  0.63   0.63 -0.10      -0.23    0.67        0.95  1.00  "
      ]
     },
     "execution_count": 7,
     "metadata": {},
     "output_type": "execute_result"
    }
   ],
   "source": [
    "day_df.corr().round(2)"
   ]
  },
  {
   "cell_type": "code",
   "execution_count": 8,
   "id": "72929e48",
   "metadata": {},
   "outputs": [
    {
     "data": {
      "text/plain": [
       "instant       731\n",
       "dteday        731\n",
       "season          4\n",
       "yr              2\n",
       "mnth           12\n",
       "holiday         2\n",
       "weekday         7\n",
       "workingday      2\n",
       "weathersit      3\n",
       "temp          499\n",
       "atemp         690\n",
       "hum           595\n",
       "windspeed     650\n",
       "casual        606\n",
       "registered    679\n",
       "cnt           696\n",
       "dtype: int64"
      ]
     },
     "execution_count": 8,
     "metadata": {},
     "output_type": "execute_result"
    }
   ],
   "source": [
    "day_df.nunique()"
   ]
  },
  {
   "cell_type": "code",
   "execution_count": 9,
   "id": "24d95dc1",
   "metadata": {
    "scrolled": true
   },
   "outputs": [
    {
     "data": {
      "text/plain": [
       "instant       0\n",
       "dteday        0\n",
       "season        0\n",
       "yr            0\n",
       "mnth          0\n",
       "holiday       0\n",
       "weekday       0\n",
       "workingday    0\n",
       "weathersit    0\n",
       "temp          0\n",
       "atemp         0\n",
       "hum           0\n",
       "windspeed     0\n",
       "casual        0\n",
       "registered    0\n",
       "cnt           0\n",
       "dtype: int64"
      ]
     },
     "execution_count": 9,
     "metadata": {},
     "output_type": "execute_result"
    }
   ],
   "source": [
    "day_df.isna().sum()"
   ]
  },
  {
   "cell_type": "markdown",
   "id": "1f4770ef",
   "metadata": {},
   "source": [
    "### Understanding Hour Data"
   ]
  },
  {
   "cell_type": "code",
   "execution_count": 10,
   "id": "9d7d7cbf",
   "metadata": {
    "scrolled": true
   },
   "outputs": [
    {
     "data": {
      "text/html": [
       "<div>\n",
       "<style scoped>\n",
       "    .dataframe tbody tr th:only-of-type {\n",
       "        vertical-align: middle;\n",
       "    }\n",
       "\n",
       "    .dataframe tbody tr th {\n",
       "        vertical-align: top;\n",
       "    }\n",
       "\n",
       "    .dataframe thead th {\n",
       "        text-align: right;\n",
       "    }\n",
       "</style>\n",
       "<table border=\"1\" class=\"dataframe\">\n",
       "  <thead>\n",
       "    <tr style=\"text-align: right;\">\n",
       "      <th></th>\n",
       "      <th>instant</th>\n",
       "      <th>dteday</th>\n",
       "      <th>season</th>\n",
       "      <th>yr</th>\n",
       "      <th>mnth</th>\n",
       "      <th>hr</th>\n",
       "      <th>holiday</th>\n",
       "      <th>weekday</th>\n",
       "      <th>workingday</th>\n",
       "      <th>weathersit</th>\n",
       "      <th>temp</th>\n",
       "      <th>atemp</th>\n",
       "      <th>hum</th>\n",
       "      <th>windspeed</th>\n",
       "      <th>casual</th>\n",
       "      <th>registered</th>\n",
       "      <th>cnt</th>\n",
       "    </tr>\n",
       "  </thead>\n",
       "  <tbody>\n",
       "    <tr>\n",
       "      <th>0</th>\n",
       "      <td>1</td>\n",
       "      <td>2011-01-01</td>\n",
       "      <td>1</td>\n",
       "      <td>0</td>\n",
       "      <td>1</td>\n",
       "      <td>0</td>\n",
       "      <td>0</td>\n",
       "      <td>6</td>\n",
       "      <td>0</td>\n",
       "      <td>1</td>\n",
       "      <td>0.24</td>\n",
       "      <td>0.2879</td>\n",
       "      <td>0.81</td>\n",
       "      <td>0.0</td>\n",
       "      <td>3</td>\n",
       "      <td>13</td>\n",
       "      <td>16</td>\n",
       "    </tr>\n",
       "    <tr>\n",
       "      <th>1</th>\n",
       "      <td>2</td>\n",
       "      <td>2011-01-01</td>\n",
       "      <td>1</td>\n",
       "      <td>0</td>\n",
       "      <td>1</td>\n",
       "      <td>1</td>\n",
       "      <td>0</td>\n",
       "      <td>6</td>\n",
       "      <td>0</td>\n",
       "      <td>1</td>\n",
       "      <td>0.22</td>\n",
       "      <td>0.2727</td>\n",
       "      <td>0.80</td>\n",
       "      <td>0.0</td>\n",
       "      <td>8</td>\n",
       "      <td>32</td>\n",
       "      <td>40</td>\n",
       "    </tr>\n",
       "    <tr>\n",
       "      <th>2</th>\n",
       "      <td>3</td>\n",
       "      <td>2011-01-01</td>\n",
       "      <td>1</td>\n",
       "      <td>0</td>\n",
       "      <td>1</td>\n",
       "      <td>2</td>\n",
       "      <td>0</td>\n",
       "      <td>6</td>\n",
       "      <td>0</td>\n",
       "      <td>1</td>\n",
       "      <td>0.22</td>\n",
       "      <td>0.2727</td>\n",
       "      <td>0.80</td>\n",
       "      <td>0.0</td>\n",
       "      <td>5</td>\n",
       "      <td>27</td>\n",
       "      <td>32</td>\n",
       "    </tr>\n",
       "    <tr>\n",
       "      <th>3</th>\n",
       "      <td>4</td>\n",
       "      <td>2011-01-01</td>\n",
       "      <td>1</td>\n",
       "      <td>0</td>\n",
       "      <td>1</td>\n",
       "      <td>3</td>\n",
       "      <td>0</td>\n",
       "      <td>6</td>\n",
       "      <td>0</td>\n",
       "      <td>1</td>\n",
       "      <td>0.24</td>\n",
       "      <td>0.2879</td>\n",
       "      <td>0.75</td>\n",
       "      <td>0.0</td>\n",
       "      <td>3</td>\n",
       "      <td>10</td>\n",
       "      <td>13</td>\n",
       "    </tr>\n",
       "    <tr>\n",
       "      <th>4</th>\n",
       "      <td>5</td>\n",
       "      <td>2011-01-01</td>\n",
       "      <td>1</td>\n",
       "      <td>0</td>\n",
       "      <td>1</td>\n",
       "      <td>4</td>\n",
       "      <td>0</td>\n",
       "      <td>6</td>\n",
       "      <td>0</td>\n",
       "      <td>1</td>\n",
       "      <td>0.24</td>\n",
       "      <td>0.2879</td>\n",
       "      <td>0.75</td>\n",
       "      <td>0.0</td>\n",
       "      <td>0</td>\n",
       "      <td>1</td>\n",
       "      <td>1</td>\n",
       "    </tr>\n",
       "  </tbody>\n",
       "</table>\n",
       "</div>"
      ],
      "text/plain": [
       "   instant      dteday  season  yr  mnth  hr  holiday  weekday  workingday  \\\n",
       "0        1  2011-01-01       1   0     1   0        0        6           0   \n",
       "1        2  2011-01-01       1   0     1   1        0        6           0   \n",
       "2        3  2011-01-01       1   0     1   2        0        6           0   \n",
       "3        4  2011-01-01       1   0     1   3        0        6           0   \n",
       "4        5  2011-01-01       1   0     1   4        0        6           0   \n",
       "\n",
       "   weathersit  temp   atemp   hum  windspeed  casual  registered  cnt  \n",
       "0           1  0.24  0.2879  0.81        0.0       3          13   16  \n",
       "1           1  0.22  0.2727  0.80        0.0       8          32   40  \n",
       "2           1  0.22  0.2727  0.80        0.0       5          27   32  \n",
       "3           1  0.24  0.2879  0.75        0.0       3          10   13  \n",
       "4           1  0.24  0.2879  0.75        0.0       0           1    1  "
      ]
     },
     "execution_count": 10,
     "metadata": {},
     "output_type": "execute_result"
    }
   ],
   "source": [
    "hour_df.head()"
   ]
  },
  {
   "cell_type": "code",
   "execution_count": 11,
   "id": "37ce30d9",
   "metadata": {},
   "outputs": [
    {
     "data": {
      "text/plain": [
       "(17379, 17)"
      ]
     },
     "execution_count": 11,
     "metadata": {},
     "output_type": "execute_result"
    }
   ],
   "source": [
    "hour_df.shape"
   ]
  },
  {
   "cell_type": "code",
   "execution_count": 12,
   "id": "a8bac0fd",
   "metadata": {
    "scrolled": true
   },
   "outputs": [
    {
     "data": {
      "text/plain": [
       "instant       0\n",
       "dteday        0\n",
       "season        0\n",
       "yr            0\n",
       "mnth          0\n",
       "hr            0\n",
       "holiday       0\n",
       "weekday       0\n",
       "workingday    0\n",
       "weathersit    0\n",
       "temp          0\n",
       "atemp         0\n",
       "hum           0\n",
       "windspeed     0\n",
       "casual        0\n",
       "registered    0\n",
       "cnt           0\n",
       "dtype: int64"
      ]
     },
     "execution_count": 12,
     "metadata": {},
     "output_type": "execute_result"
    }
   ],
   "source": [
    "hour_df.isna().sum()"
   ]
  },
  {
   "cell_type": "code",
   "execution_count": 13,
   "id": "018a5ef3",
   "metadata": {},
   "outputs": [
    {
     "data": {
      "text/html": [
       "<div>\n",
       "<style scoped>\n",
       "    .dataframe tbody tr th:only-of-type {\n",
       "        vertical-align: middle;\n",
       "    }\n",
       "\n",
       "    .dataframe tbody tr th {\n",
       "        vertical-align: top;\n",
       "    }\n",
       "\n",
       "    .dataframe thead th {\n",
       "        text-align: right;\n",
       "    }\n",
       "</style>\n",
       "<table border=\"1\" class=\"dataframe\">\n",
       "  <thead>\n",
       "    <tr style=\"text-align: right;\">\n",
       "      <th></th>\n",
       "      <th>instant</th>\n",
       "      <th>season</th>\n",
       "      <th>yr</th>\n",
       "      <th>mnth</th>\n",
       "      <th>hr</th>\n",
       "      <th>holiday</th>\n",
       "      <th>weekday</th>\n",
       "      <th>workingday</th>\n",
       "      <th>weathersit</th>\n",
       "      <th>temp</th>\n",
       "      <th>atemp</th>\n",
       "      <th>hum</th>\n",
       "      <th>windspeed</th>\n",
       "      <th>casual</th>\n",
       "      <th>registered</th>\n",
       "      <th>cnt</th>\n",
       "    </tr>\n",
       "  </thead>\n",
       "  <tbody>\n",
       "    <tr>\n",
       "      <th>instant</th>\n",
       "      <td>1.00</td>\n",
       "      <td>0.40</td>\n",
       "      <td>0.87</td>\n",
       "      <td>0.49</td>\n",
       "      <td>-0.00</td>\n",
       "      <td>0.01</td>\n",
       "      <td>0.00</td>\n",
       "      <td>-0.00</td>\n",
       "      <td>-0.01</td>\n",
       "      <td>0.14</td>\n",
       "      <td>0.14</td>\n",
       "      <td>0.01</td>\n",
       "      <td>-0.07</td>\n",
       "      <td>0.16</td>\n",
       "      <td>0.28</td>\n",
       "      <td>0.28</td>\n",
       "    </tr>\n",
       "    <tr>\n",
       "      <th>season</th>\n",
       "      <td>0.40</td>\n",
       "      <td>1.00</td>\n",
       "      <td>-0.01</td>\n",
       "      <td>0.83</td>\n",
       "      <td>-0.01</td>\n",
       "      <td>-0.01</td>\n",
       "      <td>-0.00</td>\n",
       "      <td>0.01</td>\n",
       "      <td>-0.01</td>\n",
       "      <td>0.31</td>\n",
       "      <td>0.32</td>\n",
       "      <td>0.15</td>\n",
       "      <td>-0.15</td>\n",
       "      <td>0.12</td>\n",
       "      <td>0.17</td>\n",
       "      <td>0.18</td>\n",
       "    </tr>\n",
       "    <tr>\n",
       "      <th>yr</th>\n",
       "      <td>0.87</td>\n",
       "      <td>-0.01</td>\n",
       "      <td>1.00</td>\n",
       "      <td>-0.01</td>\n",
       "      <td>-0.00</td>\n",
       "      <td>0.01</td>\n",
       "      <td>-0.00</td>\n",
       "      <td>-0.00</td>\n",
       "      <td>-0.02</td>\n",
       "      <td>0.04</td>\n",
       "      <td>0.04</td>\n",
       "      <td>-0.08</td>\n",
       "      <td>-0.01</td>\n",
       "      <td>0.14</td>\n",
       "      <td>0.25</td>\n",
       "      <td>0.25</td>\n",
       "    </tr>\n",
       "    <tr>\n",
       "      <th>mnth</th>\n",
       "      <td>0.49</td>\n",
       "      <td>0.83</td>\n",
       "      <td>-0.01</td>\n",
       "      <td>1.00</td>\n",
       "      <td>-0.01</td>\n",
       "      <td>0.02</td>\n",
       "      <td>0.01</td>\n",
       "      <td>-0.00</td>\n",
       "      <td>0.01</td>\n",
       "      <td>0.20</td>\n",
       "      <td>0.21</td>\n",
       "      <td>0.16</td>\n",
       "      <td>-0.14</td>\n",
       "      <td>0.07</td>\n",
       "      <td>0.12</td>\n",
       "      <td>0.12</td>\n",
       "    </tr>\n",
       "    <tr>\n",
       "      <th>hr</th>\n",
       "      <td>-0.00</td>\n",
       "      <td>-0.01</td>\n",
       "      <td>-0.00</td>\n",
       "      <td>-0.01</td>\n",
       "      <td>1.00</td>\n",
       "      <td>0.00</td>\n",
       "      <td>-0.00</td>\n",
       "      <td>0.00</td>\n",
       "      <td>-0.02</td>\n",
       "      <td>0.14</td>\n",
       "      <td>0.13</td>\n",
       "      <td>-0.28</td>\n",
       "      <td>0.14</td>\n",
       "      <td>0.30</td>\n",
       "      <td>0.37</td>\n",
       "      <td>0.39</td>\n",
       "    </tr>\n",
       "    <tr>\n",
       "      <th>holiday</th>\n",
       "      <td>0.01</td>\n",
       "      <td>-0.01</td>\n",
       "      <td>0.01</td>\n",
       "      <td>0.02</td>\n",
       "      <td>0.00</td>\n",
       "      <td>1.00</td>\n",
       "      <td>-0.10</td>\n",
       "      <td>-0.25</td>\n",
       "      <td>-0.02</td>\n",
       "      <td>-0.03</td>\n",
       "      <td>-0.03</td>\n",
       "      <td>-0.01</td>\n",
       "      <td>0.00</td>\n",
       "      <td>0.03</td>\n",
       "      <td>-0.05</td>\n",
       "      <td>-0.03</td>\n",
       "    </tr>\n",
       "    <tr>\n",
       "      <th>weekday</th>\n",
       "      <td>0.00</td>\n",
       "      <td>-0.00</td>\n",
       "      <td>-0.00</td>\n",
       "      <td>0.01</td>\n",
       "      <td>-0.00</td>\n",
       "      <td>-0.10</td>\n",
       "      <td>1.00</td>\n",
       "      <td>0.04</td>\n",
       "      <td>0.00</td>\n",
       "      <td>-0.00</td>\n",
       "      <td>-0.01</td>\n",
       "      <td>-0.04</td>\n",
       "      <td>0.01</td>\n",
       "      <td>0.03</td>\n",
       "      <td>0.02</td>\n",
       "      <td>0.03</td>\n",
       "    </tr>\n",
       "    <tr>\n",
       "      <th>workingday</th>\n",
       "      <td>-0.00</td>\n",
       "      <td>0.01</td>\n",
       "      <td>-0.00</td>\n",
       "      <td>-0.00</td>\n",
       "      <td>0.00</td>\n",
       "      <td>-0.25</td>\n",
       "      <td>0.04</td>\n",
       "      <td>1.00</td>\n",
       "      <td>0.04</td>\n",
       "      <td>0.06</td>\n",
       "      <td>0.05</td>\n",
       "      <td>0.02</td>\n",
       "      <td>-0.01</td>\n",
       "      <td>-0.30</td>\n",
       "      <td>0.13</td>\n",
       "      <td>0.03</td>\n",
       "    </tr>\n",
       "    <tr>\n",
       "      <th>weathersit</th>\n",
       "      <td>-0.01</td>\n",
       "      <td>-0.01</td>\n",
       "      <td>-0.02</td>\n",
       "      <td>0.01</td>\n",
       "      <td>-0.02</td>\n",
       "      <td>-0.02</td>\n",
       "      <td>0.00</td>\n",
       "      <td>0.04</td>\n",
       "      <td>1.00</td>\n",
       "      <td>-0.10</td>\n",
       "      <td>-0.11</td>\n",
       "      <td>0.42</td>\n",
       "      <td>0.03</td>\n",
       "      <td>-0.15</td>\n",
       "      <td>-0.12</td>\n",
       "      <td>-0.14</td>\n",
       "    </tr>\n",
       "    <tr>\n",
       "      <th>temp</th>\n",
       "      <td>0.14</td>\n",
       "      <td>0.31</td>\n",
       "      <td>0.04</td>\n",
       "      <td>0.20</td>\n",
       "      <td>0.14</td>\n",
       "      <td>-0.03</td>\n",
       "      <td>-0.00</td>\n",
       "      <td>0.06</td>\n",
       "      <td>-0.10</td>\n",
       "      <td>1.00</td>\n",
       "      <td>0.99</td>\n",
       "      <td>-0.07</td>\n",
       "      <td>-0.02</td>\n",
       "      <td>0.46</td>\n",
       "      <td>0.34</td>\n",
       "      <td>0.40</td>\n",
       "    </tr>\n",
       "    <tr>\n",
       "      <th>atemp</th>\n",
       "      <td>0.14</td>\n",
       "      <td>0.32</td>\n",
       "      <td>0.04</td>\n",
       "      <td>0.21</td>\n",
       "      <td>0.13</td>\n",
       "      <td>-0.03</td>\n",
       "      <td>-0.01</td>\n",
       "      <td>0.05</td>\n",
       "      <td>-0.11</td>\n",
       "      <td>0.99</td>\n",
       "      <td>1.00</td>\n",
       "      <td>-0.05</td>\n",
       "      <td>-0.06</td>\n",
       "      <td>0.45</td>\n",
       "      <td>0.33</td>\n",
       "      <td>0.40</td>\n",
       "    </tr>\n",
       "    <tr>\n",
       "      <th>hum</th>\n",
       "      <td>0.01</td>\n",
       "      <td>0.15</td>\n",
       "      <td>-0.08</td>\n",
       "      <td>0.16</td>\n",
       "      <td>-0.28</td>\n",
       "      <td>-0.01</td>\n",
       "      <td>-0.04</td>\n",
       "      <td>0.02</td>\n",
       "      <td>0.42</td>\n",
       "      <td>-0.07</td>\n",
       "      <td>-0.05</td>\n",
       "      <td>1.00</td>\n",
       "      <td>-0.29</td>\n",
       "      <td>-0.35</td>\n",
       "      <td>-0.27</td>\n",
       "      <td>-0.32</td>\n",
       "    </tr>\n",
       "    <tr>\n",
       "      <th>windspeed</th>\n",
       "      <td>-0.07</td>\n",
       "      <td>-0.15</td>\n",
       "      <td>-0.01</td>\n",
       "      <td>-0.14</td>\n",
       "      <td>0.14</td>\n",
       "      <td>0.00</td>\n",
       "      <td>0.01</td>\n",
       "      <td>-0.01</td>\n",
       "      <td>0.03</td>\n",
       "      <td>-0.02</td>\n",
       "      <td>-0.06</td>\n",
       "      <td>-0.29</td>\n",
       "      <td>1.00</td>\n",
       "      <td>0.09</td>\n",
       "      <td>0.08</td>\n",
       "      <td>0.09</td>\n",
       "    </tr>\n",
       "    <tr>\n",
       "      <th>casual</th>\n",
       "      <td>0.16</td>\n",
       "      <td>0.12</td>\n",
       "      <td>0.14</td>\n",
       "      <td>0.07</td>\n",
       "      <td>0.30</td>\n",
       "      <td>0.03</td>\n",
       "      <td>0.03</td>\n",
       "      <td>-0.30</td>\n",
       "      <td>-0.15</td>\n",
       "      <td>0.46</td>\n",
       "      <td>0.45</td>\n",
       "      <td>-0.35</td>\n",
       "      <td>0.09</td>\n",
       "      <td>1.00</td>\n",
       "      <td>0.51</td>\n",
       "      <td>0.69</td>\n",
       "    </tr>\n",
       "    <tr>\n",
       "      <th>registered</th>\n",
       "      <td>0.28</td>\n",
       "      <td>0.17</td>\n",
       "      <td>0.25</td>\n",
       "      <td>0.12</td>\n",
       "      <td>0.37</td>\n",
       "      <td>-0.05</td>\n",
       "      <td>0.02</td>\n",
       "      <td>0.13</td>\n",
       "      <td>-0.12</td>\n",
       "      <td>0.34</td>\n",
       "      <td>0.33</td>\n",
       "      <td>-0.27</td>\n",
       "      <td>0.08</td>\n",
       "      <td>0.51</td>\n",
       "      <td>1.00</td>\n",
       "      <td>0.97</td>\n",
       "    </tr>\n",
       "    <tr>\n",
       "      <th>cnt</th>\n",
       "      <td>0.28</td>\n",
       "      <td>0.18</td>\n",
       "      <td>0.25</td>\n",
       "      <td>0.12</td>\n",
       "      <td>0.39</td>\n",
       "      <td>-0.03</td>\n",
       "      <td>0.03</td>\n",
       "      <td>0.03</td>\n",
       "      <td>-0.14</td>\n",
       "      <td>0.40</td>\n",
       "      <td>0.40</td>\n",
       "      <td>-0.32</td>\n",
       "      <td>0.09</td>\n",
       "      <td>0.69</td>\n",
       "      <td>0.97</td>\n",
       "      <td>1.00</td>\n",
       "    </tr>\n",
       "  </tbody>\n",
       "</table>\n",
       "</div>"
      ],
      "text/plain": [
       "            instant  season    yr  mnth    hr  holiday  weekday  workingday  \\\n",
       "instant        1.00    0.40  0.87  0.49 -0.00     0.01     0.00       -0.00   \n",
       "season         0.40    1.00 -0.01  0.83 -0.01    -0.01    -0.00        0.01   \n",
       "yr             0.87   -0.01  1.00 -0.01 -0.00     0.01    -0.00       -0.00   \n",
       "mnth           0.49    0.83 -0.01  1.00 -0.01     0.02     0.01       -0.00   \n",
       "hr            -0.00   -0.01 -0.00 -0.01  1.00     0.00    -0.00        0.00   \n",
       "holiday        0.01   -0.01  0.01  0.02  0.00     1.00    -0.10       -0.25   \n",
       "weekday        0.00   -0.00 -0.00  0.01 -0.00    -0.10     1.00        0.04   \n",
       "workingday    -0.00    0.01 -0.00 -0.00  0.00    -0.25     0.04        1.00   \n",
       "weathersit    -0.01   -0.01 -0.02  0.01 -0.02    -0.02     0.00        0.04   \n",
       "temp           0.14    0.31  0.04  0.20  0.14    -0.03    -0.00        0.06   \n",
       "atemp          0.14    0.32  0.04  0.21  0.13    -0.03    -0.01        0.05   \n",
       "hum            0.01    0.15 -0.08  0.16 -0.28    -0.01    -0.04        0.02   \n",
       "windspeed     -0.07   -0.15 -0.01 -0.14  0.14     0.00     0.01       -0.01   \n",
       "casual         0.16    0.12  0.14  0.07  0.30     0.03     0.03       -0.30   \n",
       "registered     0.28    0.17  0.25  0.12  0.37    -0.05     0.02        0.13   \n",
       "cnt            0.28    0.18  0.25  0.12  0.39    -0.03     0.03        0.03   \n",
       "\n",
       "            weathersit  temp  atemp   hum  windspeed  casual  registered   cnt  \n",
       "instant          -0.01  0.14   0.14  0.01      -0.07    0.16        0.28  0.28  \n",
       "season           -0.01  0.31   0.32  0.15      -0.15    0.12        0.17  0.18  \n",
       "yr               -0.02  0.04   0.04 -0.08      -0.01    0.14        0.25  0.25  \n",
       "mnth              0.01  0.20   0.21  0.16      -0.14    0.07        0.12  0.12  \n",
       "hr               -0.02  0.14   0.13 -0.28       0.14    0.30        0.37  0.39  \n",
       "holiday          -0.02 -0.03  -0.03 -0.01       0.00    0.03       -0.05 -0.03  \n",
       "weekday           0.00 -0.00  -0.01 -0.04       0.01    0.03        0.02  0.03  \n",
       "workingday        0.04  0.06   0.05  0.02      -0.01   -0.30        0.13  0.03  \n",
       "weathersit        1.00 -0.10  -0.11  0.42       0.03   -0.15       -0.12 -0.14  \n",
       "temp             -0.10  1.00   0.99 -0.07      -0.02    0.46        0.34  0.40  \n",
       "atemp            -0.11  0.99   1.00 -0.05      -0.06    0.45        0.33  0.40  \n",
       "hum               0.42 -0.07  -0.05  1.00      -0.29   -0.35       -0.27 -0.32  \n",
       "windspeed         0.03 -0.02  -0.06 -0.29       1.00    0.09        0.08  0.09  \n",
       "casual           -0.15  0.46   0.45 -0.35       0.09    1.00        0.51  0.69  \n",
       "registered       -0.12  0.34   0.33 -0.27       0.08    0.51        1.00  0.97  \n",
       "cnt              -0.14  0.40   0.40 -0.32       0.09    0.69        0.97  1.00  "
      ]
     },
     "execution_count": 13,
     "metadata": {},
     "output_type": "execute_result"
    }
   ],
   "source": [
    "hour_df.corr().round(2)"
   ]
  },
  {
   "cell_type": "code",
   "execution_count": 14,
   "id": "69ca428e",
   "metadata": {
    "scrolled": true
   },
   "outputs": [
    {
     "data": {
      "text/html": [
       "<div>\n",
       "<style scoped>\n",
       "    .dataframe tbody tr th:only-of-type {\n",
       "        vertical-align: middle;\n",
       "    }\n",
       "\n",
       "    .dataframe tbody tr th {\n",
       "        vertical-align: top;\n",
       "    }\n",
       "\n",
       "    .dataframe thead th {\n",
       "        text-align: right;\n",
       "    }\n",
       "</style>\n",
       "<table border=\"1\" class=\"dataframe\">\n",
       "  <thead>\n",
       "    <tr style=\"text-align: right;\">\n",
       "      <th></th>\n",
       "      <th>instant</th>\n",
       "      <th>season</th>\n",
       "      <th>yr</th>\n",
       "      <th>mnth</th>\n",
       "      <th>hr</th>\n",
       "      <th>holiday</th>\n",
       "      <th>weekday</th>\n",
       "      <th>workingday</th>\n",
       "      <th>weathersit</th>\n",
       "      <th>temp</th>\n",
       "      <th>atemp</th>\n",
       "      <th>hum</th>\n",
       "      <th>windspeed</th>\n",
       "      <th>casual</th>\n",
       "      <th>registered</th>\n",
       "      <th>cnt</th>\n",
       "    </tr>\n",
       "  </thead>\n",
       "  <tbody>\n",
       "    <tr>\n",
       "      <th>count</th>\n",
       "      <td>17379.00</td>\n",
       "      <td>17379.00</td>\n",
       "      <td>17379.0</td>\n",
       "      <td>17379.00</td>\n",
       "      <td>17379.00</td>\n",
       "      <td>17379.00</td>\n",
       "      <td>17379.00</td>\n",
       "      <td>17379.00</td>\n",
       "      <td>17379.00</td>\n",
       "      <td>17379.00</td>\n",
       "      <td>17379.00</td>\n",
       "      <td>17379.00</td>\n",
       "      <td>17379.00</td>\n",
       "      <td>17379.00</td>\n",
       "      <td>17379.00</td>\n",
       "      <td>17379.00</td>\n",
       "    </tr>\n",
       "    <tr>\n",
       "      <th>mean</th>\n",
       "      <td>8690.00</td>\n",
       "      <td>2.50</td>\n",
       "      <td>0.5</td>\n",
       "      <td>6.54</td>\n",
       "      <td>11.55</td>\n",
       "      <td>0.03</td>\n",
       "      <td>3.00</td>\n",
       "      <td>0.68</td>\n",
       "      <td>1.43</td>\n",
       "      <td>0.50</td>\n",
       "      <td>0.48</td>\n",
       "      <td>0.63</td>\n",
       "      <td>0.19</td>\n",
       "      <td>35.68</td>\n",
       "      <td>153.79</td>\n",
       "      <td>189.46</td>\n",
       "    </tr>\n",
       "    <tr>\n",
       "      <th>std</th>\n",
       "      <td>5017.03</td>\n",
       "      <td>1.11</td>\n",
       "      <td>0.5</td>\n",
       "      <td>3.44</td>\n",
       "      <td>6.91</td>\n",
       "      <td>0.17</td>\n",
       "      <td>2.01</td>\n",
       "      <td>0.47</td>\n",
       "      <td>0.64</td>\n",
       "      <td>0.19</td>\n",
       "      <td>0.17</td>\n",
       "      <td>0.19</td>\n",
       "      <td>0.12</td>\n",
       "      <td>49.31</td>\n",
       "      <td>151.36</td>\n",
       "      <td>181.39</td>\n",
       "    </tr>\n",
       "    <tr>\n",
       "      <th>min</th>\n",
       "      <td>1.00</td>\n",
       "      <td>1.00</td>\n",
       "      <td>0.0</td>\n",
       "      <td>1.00</td>\n",
       "      <td>0.00</td>\n",
       "      <td>0.00</td>\n",
       "      <td>0.00</td>\n",
       "      <td>0.00</td>\n",
       "      <td>1.00</td>\n",
       "      <td>0.02</td>\n",
       "      <td>0.00</td>\n",
       "      <td>0.00</td>\n",
       "      <td>0.00</td>\n",
       "      <td>0.00</td>\n",
       "      <td>0.00</td>\n",
       "      <td>1.00</td>\n",
       "    </tr>\n",
       "    <tr>\n",
       "      <th>25%</th>\n",
       "      <td>4345.50</td>\n",
       "      <td>2.00</td>\n",
       "      <td>0.0</td>\n",
       "      <td>4.00</td>\n",
       "      <td>6.00</td>\n",
       "      <td>0.00</td>\n",
       "      <td>1.00</td>\n",
       "      <td>0.00</td>\n",
       "      <td>1.00</td>\n",
       "      <td>0.34</td>\n",
       "      <td>0.33</td>\n",
       "      <td>0.48</td>\n",
       "      <td>0.10</td>\n",
       "      <td>4.00</td>\n",
       "      <td>34.00</td>\n",
       "      <td>40.00</td>\n",
       "    </tr>\n",
       "    <tr>\n",
       "      <th>50%</th>\n",
       "      <td>8690.00</td>\n",
       "      <td>3.00</td>\n",
       "      <td>1.0</td>\n",
       "      <td>7.00</td>\n",
       "      <td>12.00</td>\n",
       "      <td>0.00</td>\n",
       "      <td>3.00</td>\n",
       "      <td>1.00</td>\n",
       "      <td>1.00</td>\n",
       "      <td>0.50</td>\n",
       "      <td>0.48</td>\n",
       "      <td>0.63</td>\n",
       "      <td>0.19</td>\n",
       "      <td>17.00</td>\n",
       "      <td>115.00</td>\n",
       "      <td>142.00</td>\n",
       "    </tr>\n",
       "    <tr>\n",
       "      <th>75%</th>\n",
       "      <td>13034.50</td>\n",
       "      <td>3.00</td>\n",
       "      <td>1.0</td>\n",
       "      <td>10.00</td>\n",
       "      <td>18.00</td>\n",
       "      <td>0.00</td>\n",
       "      <td>5.00</td>\n",
       "      <td>1.00</td>\n",
       "      <td>2.00</td>\n",
       "      <td>0.66</td>\n",
       "      <td>0.62</td>\n",
       "      <td>0.78</td>\n",
       "      <td>0.25</td>\n",
       "      <td>48.00</td>\n",
       "      <td>220.00</td>\n",
       "      <td>281.00</td>\n",
       "    </tr>\n",
       "    <tr>\n",
       "      <th>max</th>\n",
       "      <td>17379.00</td>\n",
       "      <td>4.00</td>\n",
       "      <td>1.0</td>\n",
       "      <td>12.00</td>\n",
       "      <td>23.00</td>\n",
       "      <td>1.00</td>\n",
       "      <td>6.00</td>\n",
       "      <td>1.00</td>\n",
       "      <td>4.00</td>\n",
       "      <td>1.00</td>\n",
       "      <td>1.00</td>\n",
       "      <td>1.00</td>\n",
       "      <td>0.85</td>\n",
       "      <td>367.00</td>\n",
       "      <td>886.00</td>\n",
       "      <td>977.00</td>\n",
       "    </tr>\n",
       "  </tbody>\n",
       "</table>\n",
       "</div>"
      ],
      "text/plain": [
       "        instant    season       yr      mnth        hr   holiday   weekday  \\\n",
       "count  17379.00  17379.00  17379.0  17379.00  17379.00  17379.00  17379.00   \n",
       "mean    8690.00      2.50      0.5      6.54     11.55      0.03      3.00   \n",
       "std     5017.03      1.11      0.5      3.44      6.91      0.17      2.01   \n",
       "min        1.00      1.00      0.0      1.00      0.00      0.00      0.00   \n",
       "25%     4345.50      2.00      0.0      4.00      6.00      0.00      1.00   \n",
       "50%     8690.00      3.00      1.0      7.00     12.00      0.00      3.00   \n",
       "75%    13034.50      3.00      1.0     10.00     18.00      0.00      5.00   \n",
       "max    17379.00      4.00      1.0     12.00     23.00      1.00      6.00   \n",
       "\n",
       "       workingday  weathersit      temp     atemp       hum  windspeed  \\\n",
       "count    17379.00    17379.00  17379.00  17379.00  17379.00   17379.00   \n",
       "mean         0.68        1.43      0.50      0.48      0.63       0.19   \n",
       "std          0.47        0.64      0.19      0.17      0.19       0.12   \n",
       "min          0.00        1.00      0.02      0.00      0.00       0.00   \n",
       "25%          0.00        1.00      0.34      0.33      0.48       0.10   \n",
       "50%          1.00        1.00      0.50      0.48      0.63       0.19   \n",
       "75%          1.00        2.00      0.66      0.62      0.78       0.25   \n",
       "max          1.00        4.00      1.00      1.00      1.00       0.85   \n",
       "\n",
       "         casual  registered       cnt  \n",
       "count  17379.00    17379.00  17379.00  \n",
       "mean      35.68      153.79    189.46  \n",
       "std       49.31      151.36    181.39  \n",
       "min        0.00        0.00      1.00  \n",
       "25%        4.00       34.00     40.00  \n",
       "50%       17.00      115.00    142.00  \n",
       "75%       48.00      220.00    281.00  \n",
       "max      367.00      886.00    977.00  "
      ]
     },
     "execution_count": 14,
     "metadata": {},
     "output_type": "execute_result"
    }
   ],
   "source": [
    "hour_df.describe().round(2)"
   ]
  },
  {
   "cell_type": "markdown",
   "id": "780526ed",
   "metadata": {},
   "source": [
    "### Data Preprocessing"
   ]
  },
  {
   "cell_type": "code",
   "execution_count": 15,
   "id": "12622398",
   "metadata": {},
   "outputs": [],
   "source": [
    "day_df = day_df.rename(columns = {'weathersit':'weather',\n",
    "                       'yr':'year',\n",
    "                       'mnth':'month',\n",
    "                       'hum':'humidity',\n",
    "                       'cnt':'count'})\n",
    "hour_df = hour_df.rename(columns = {'weathersit':'weather',\n",
    "                       'yr':'year',\n",
    "                       'mnth':'month',\n",
    "                       'hr':'hour',\n",
    "                       'hum':'humidity',\n",
    "                       'cnt':'count'})"
   ]
  },
  {
   "cell_type": "code",
   "execution_count": 16,
   "id": "94f17376",
   "metadata": {},
   "outputs": [],
   "source": [
    "col = ['season', 'year', 'hour', 'month', 'holiday', 'weekday',\n",
    "       'workingday', 'weather']\n",
    "for i in col:\n",
    "        if i in day_df.columns.to_list():\n",
    "            day_df[i] = day_df[i].astype('category')\n",
    "for i in col:\n",
    "        if i in hour_df.columns.to_list():\n",
    "            hour_df[i] = hour_df[i].astype('category')"
   ]
  },
  {
   "cell_type": "code",
   "execution_count": 17,
   "id": "9e1e18d0",
   "metadata": {},
   "outputs": [
    {
     "data": {
      "text/html": [
       "<div>\n",
       "<style scoped>\n",
       "    .dataframe tbody tr th:only-of-type {\n",
       "        vertical-align: middle;\n",
       "    }\n",
       "\n",
       "    .dataframe tbody tr th {\n",
       "        vertical-align: top;\n",
       "    }\n",
       "\n",
       "    .dataframe thead th {\n",
       "        text-align: right;\n",
       "    }\n",
       "</style>\n",
       "<table border=\"1\" class=\"dataframe\">\n",
       "  <thead>\n",
       "    <tr style=\"text-align: right;\">\n",
       "      <th></th>\n",
       "      <th>season</th>\n",
       "      <th>year</th>\n",
       "      <th>month</th>\n",
       "      <th>holiday</th>\n",
       "      <th>weekday</th>\n",
       "      <th>workingday</th>\n",
       "      <th>weather</th>\n",
       "      <th>temp</th>\n",
       "      <th>atemp</th>\n",
       "      <th>humidity</th>\n",
       "      <th>windspeed</th>\n",
       "      <th>casual</th>\n",
       "      <th>registered</th>\n",
       "      <th>count</th>\n",
       "    </tr>\n",
       "  </thead>\n",
       "  <tbody>\n",
       "    <tr>\n",
       "      <th>0</th>\n",
       "      <td>1</td>\n",
       "      <td>0</td>\n",
       "      <td>1</td>\n",
       "      <td>0</td>\n",
       "      <td>6</td>\n",
       "      <td>0</td>\n",
       "      <td>2</td>\n",
       "      <td>0.344167</td>\n",
       "      <td>0.363625</td>\n",
       "      <td>0.805833</td>\n",
       "      <td>0.160446</td>\n",
       "      <td>331</td>\n",
       "      <td>654</td>\n",
       "      <td>985</td>\n",
       "    </tr>\n",
       "    <tr>\n",
       "      <th>1</th>\n",
       "      <td>1</td>\n",
       "      <td>0</td>\n",
       "      <td>1</td>\n",
       "      <td>0</td>\n",
       "      <td>0</td>\n",
       "      <td>0</td>\n",
       "      <td>2</td>\n",
       "      <td>0.363478</td>\n",
       "      <td>0.353739</td>\n",
       "      <td>0.696087</td>\n",
       "      <td>0.248539</td>\n",
       "      <td>131</td>\n",
       "      <td>670</td>\n",
       "      <td>801</td>\n",
       "    </tr>\n",
       "    <tr>\n",
       "      <th>2</th>\n",
       "      <td>1</td>\n",
       "      <td>0</td>\n",
       "      <td>1</td>\n",
       "      <td>0</td>\n",
       "      <td>1</td>\n",
       "      <td>1</td>\n",
       "      <td>1</td>\n",
       "      <td>0.196364</td>\n",
       "      <td>0.189405</td>\n",
       "      <td>0.437273</td>\n",
       "      <td>0.248309</td>\n",
       "      <td>120</td>\n",
       "      <td>1229</td>\n",
       "      <td>1349</td>\n",
       "    </tr>\n",
       "    <tr>\n",
       "      <th>3</th>\n",
       "      <td>1</td>\n",
       "      <td>0</td>\n",
       "      <td>1</td>\n",
       "      <td>0</td>\n",
       "      <td>2</td>\n",
       "      <td>1</td>\n",
       "      <td>1</td>\n",
       "      <td>0.200000</td>\n",
       "      <td>0.212122</td>\n",
       "      <td>0.590435</td>\n",
       "      <td>0.160296</td>\n",
       "      <td>108</td>\n",
       "      <td>1454</td>\n",
       "      <td>1562</td>\n",
       "    </tr>\n",
       "    <tr>\n",
       "      <th>4</th>\n",
       "      <td>1</td>\n",
       "      <td>0</td>\n",
       "      <td>1</td>\n",
       "      <td>0</td>\n",
       "      <td>3</td>\n",
       "      <td>1</td>\n",
       "      <td>1</td>\n",
       "      <td>0.226957</td>\n",
       "      <td>0.229270</td>\n",
       "      <td>0.436957</td>\n",
       "      <td>0.186900</td>\n",
       "      <td>82</td>\n",
       "      <td>1518</td>\n",
       "      <td>1600</td>\n",
       "    </tr>\n",
       "  </tbody>\n",
       "</table>\n",
       "</div>"
      ],
      "text/plain": [
       "  season year month holiday weekday workingday weather      temp     atemp  \\\n",
       "0      1    0     1       0       6          0       2  0.344167  0.363625   \n",
       "1      1    0     1       0       0          0       2  0.363478  0.353739   \n",
       "2      1    0     1       0       1          1       1  0.196364  0.189405   \n",
       "3      1    0     1       0       2          1       1  0.200000  0.212122   \n",
       "4      1    0     1       0       3          1       1  0.226957  0.229270   \n",
       "\n",
       "   humidity  windspeed  casual  registered  count  \n",
       "0  0.805833   0.160446     331         654    985  \n",
       "1  0.696087   0.248539     131         670    801  \n",
       "2  0.437273   0.248309     120        1229   1349  \n",
       "3  0.590435   0.160296     108        1454   1562  \n",
       "4  0.436957   0.186900      82        1518   1600  "
      ]
     },
     "execution_count": 17,
     "metadata": {},
     "output_type": "execute_result"
    }
   ],
   "source": [
    "# date column and instant cannot be used as a feature so lets drop it \n",
    "day_df.drop(['dteday', 'instant'], axis=1, inplace=True)\n",
    "day_df.head()"
   ]
  },
  {
   "cell_type": "code",
   "execution_count": 18,
   "id": "80d74463",
   "metadata": {},
   "outputs": [
    {
     "data": {
      "text/plain": [
       "(731, 14)"
      ]
     },
     "execution_count": 18,
     "metadata": {},
     "output_type": "execute_result"
    }
   ],
   "source": [
    "day_df.shape"
   ]
  },
  {
   "cell_type": "code",
   "execution_count": 19,
   "id": "7e92ddef",
   "metadata": {},
   "outputs": [
    {
     "data": {
      "text/plain": [
       "(17379, 15)"
      ]
     },
     "execution_count": 19,
     "metadata": {},
     "output_type": "execute_result"
    }
   ],
   "source": [
    "hour_df.drop(['instant', 'dteday'], axis=1, inplace=True)\n",
    "hour_df.shape"
   ]
  },
  {
   "cell_type": "markdown",
   "id": "98dbc3c4",
   "metadata": {},
   "source": [
    "### Creating regression models\n",
    "#### Using only day.csv\n",
    "#### i. the number of casual riders"
   ]
  },
  {
   "cell_type": "code",
   "execution_count": 20,
   "id": "3d040105",
   "metadata": {},
   "outputs": [],
   "source": [
    "day_df_casual = day_df.copy()\n",
    "X_casual = day_df_casual.drop(['casual', 'registered', 'count'], axis=1)\n",
    "Y_casual = day_df_casual['casual']"
   ]
  },
  {
   "cell_type": "markdown",
   "id": "665136af",
   "metadata": {},
   "source": [
    "### KNN Regression\n",
    "#### we use k-fold method for the model selection"
   ]
  },
  {
   "cell_type": "code",
   "execution_count": 21,
   "id": "f0baa4c7",
   "metadata": {},
   "outputs": [],
   "source": [
    "knn_casual = neighbors.KNeighborsRegressor(n_neighbors=5, weights='uniform')"
   ]
  },
  {
   "cell_type": "code",
   "execution_count": 22,
   "id": "0776eead",
   "metadata": {
    "scrolled": true
   },
   "outputs": [
    {
     "name": "stdout",
     "output_type": "stream",
     "text": [
      "RMSE: mean= 343.481, std= 28.336\n",
      "R^2 score: mean= 0.746, std= 0.029\n"
     ]
    }
   ],
   "source": [
    "kf = model_selection.KFold(n_splits=5, shuffle=True)\n",
    "rmse = []\n",
    "r2 = []\n",
    "for train_index, test_index in kf.split(day_df_casual):\n",
    "    X_train, X_test = X_casual.iloc[train_index], X_casual.iloc[test_index]\n",
    "    y_train, y_test = Y_casual.iloc[train_index], Y_casual.iloc[test_index]\n",
    "    knn_casual.fit(X_train, y_train)\n",
    "    y_pred = knn_casual.predict(X_test)\n",
    "    rmse.append(np.sqrt(metrics.mean_squared_error(y_test, y_pred)))\n",
    "    r2.append(knn_casual.score(X_test, y_test))\n",
    "print(f'RMSE: mean= {np.mean(rmse).round(3)}, std= {np.std(rmse).round(3)}')\n",
    "print(f'R^2 score: mean= {np.mean(r2).round(3)}, std= {np.std(r2).round(3)}')\n"
   ]
  },
  {
   "cell_type": "code",
   "execution_count": 23,
   "id": "18074e76",
   "metadata": {},
   "outputs": [
    {
     "data": {
      "image/png": "[encoded data removed]",
      "text/plain": [
       "<Figure size 432x288 with 1 Axes>"
      ]
     },
     "metadata": {
      "needs_background": "light"
     },
     "output_type": "display_data"
    }
   ],
   "source": [
    "plt.scatter(y_test,y_pred);"
   ]
  },
  {
   "cell_type": "markdown",
   "id": "7073382b",
   "metadata": {},
   "source": [
    "### Linear Regression"
   ]
  },
  {
   "cell_type": "code",
   "execution_count": 24,
   "id": "7040faf9",
   "metadata": {},
   "outputs": [],
   "source": [
    "reg_casual = linear_model.LinearRegression()"
   ]
  },
  {
   "cell_type": "code",
   "execution_count": 25,
   "id": "a3131a41",
   "metadata": {},
   "outputs": [
    {
     "name": "stdout",
     "output_type": "stream",
     "text": [
      "RMSE: mean= 395.343, std= 26.327\n",
      "R^2 score: mean= 0.664, std= 0.023\n"
     ]
    }
   ],
   "source": [
    "kf = model_selection.KFold(n_splits=5, shuffle=True)\n",
    "rmse = []\n",
    "r2 = []\n",
    "for train_index, test_index in kf.split(day_df_casual):\n",
    "    X_train, X_test = X_casual.iloc[train_index], X_casual.iloc[test_index]\n",
    "    y_train, y_test = Y_casual.iloc[train_index], Y_casual.iloc[test_index]\n",
    "    reg_casual.fit(X_train, y_train)\n",
    "    y_pred = reg_casual.predict(X_test)\n",
    "    rmse.append(np.sqrt(metrics.mean_squared_error(y_test, y_pred)))\n",
    "    r2.append(reg_casual.score(X_test, y_test))\n",
    "print(f'RMSE: mean= {np.mean(rmse).round(3)}, std= {np.std(rmse).round(3)}')\n",
    "print(f'R^2 score: mean= {np.mean(r2).round(3)}, std= {np.std(r2).round(3)}')"
   ]
  },
  {
   "cell_type": "code",
   "execution_count": 26,
   "id": "c7a8721b",
   "metadata": {},
   "outputs": [
    {
     "data": {
      "image/png": "[encoded data removed]",
      "text/plain": [
       "<Figure size 432x288 with 1 Axes>"
      ]
     },
     "metadata": {
      "needs_background": "light"
     },
     "output_type": "display_data"
    }
   ],
   "source": [
    "plt.scatter(y_test,y_pred);"
   ]
  },
  {
   "cell_type": "markdown",
   "id": "68386675",
   "metadata": {},
   "source": [
    "#### to compare the train_test_split and k-fold methods"
   ]
  },
  {
   "cell_type": "code",
   "execution_count": 27,
   "id": "a902ccd8",
   "metadata": {},
   "outputs": [],
   "source": [
    "X_train_c,X_test_c,y_train_c,y_test_c = train_test_split(X_casual, Y_casual, test_size=0.2)"
   ]
  },
  {
   "cell_type": "code",
   "execution_count": 28,
   "id": "01ed2032",
   "metadata": {},
   "outputs": [
    {
     "data": {
      "text/plain": [
       "LinearRegression()"
      ]
     },
     "execution_count": 28,
     "metadata": {},
     "output_type": "execute_result"
    }
   ],
   "source": [
    "reg_casual_ = linear_model.LinearRegression()\n",
    "reg_casual_.fit(X_train_c, y_train_c)"
   ]
  },
  {
   "cell_type": "code",
   "execution_count": 29,
   "id": "c0bfade7",
   "metadata": {},
   "outputs": [],
   "source": [
    "reg_casual_pred = reg_casual_.predict(X_test_c)"
   ]
  },
  {
   "cell_type": "code",
   "execution_count": 30,
   "id": "55d4aa55",
   "metadata": {},
   "outputs": [
    {
     "data": {
      "image/png": "[encoded data removed]",
      "text/plain": [
       "<Figure size 432x288 with 1 Axes>"
      ]
     },
     "metadata": {
      "needs_background": "light"
     },
     "output_type": "display_data"
    }
   ],
   "source": [
    "plt.scatter(y_test_c,reg_casual_pred);"
   ]
  },
  {
   "cell_type": "code",
   "execution_count": 31,
   "id": "a0c91d1d",
   "metadata": {
    "scrolled": true
   },
   "outputs": [
    {
     "name": "stdout",
     "output_type": "stream",
     "text": [
      "RMSE: 370.3912524303182\n",
      "R^2 score: 0.73\n"
     ]
    }
   ],
   "source": [
    "print('RMSE:', np.sqrt(metrics.mean_squared_error(y_test_c, reg_casual_pred)))\n",
    "print('R^2 score: %.2f' % reg_casual_.score(X_test_c, y_test_c))"
   ]
  },
  {
   "cell_type": "markdown",
   "id": "a988cdc7",
   "metadata": {},
   "source": [
    "#### ii. the number of registered riders"
   ]
  },
  {
   "cell_type": "code",
   "execution_count": 32,
   "id": "57ae9d97",
   "metadata": {},
   "outputs": [],
   "source": [
    "day_df_registered = day_df.copy()\n",
    "X_registered = day_df_registered.drop(['registered', 'casual', 'count'], axis=1)\n",
    "Y_registered = day_df_registered['registered']"
   ]
  },
  {
   "cell_type": "markdown",
   "id": "e41dc69d",
   "metadata": {},
   "source": [
    "### KNN Regression"
   ]
  },
  {
   "cell_type": "code",
   "execution_count": 33,
   "id": "e9a77e0a",
   "metadata": {},
   "outputs": [],
   "source": [
    "knn_registered = neighbors.KNeighborsRegressor(n_neighbors=5, weights='uniform')"
   ]
  },
  {
   "cell_type": "code",
   "execution_count": 34,
   "id": "70b05ed6",
   "metadata": {
    "scrolled": true
   },
   "outputs": [
    {
     "name": "stdout",
     "output_type": "stream",
     "text": [
      "RMSE: mean= 733.141, std= 55.465\n",
      "R^2 score: mean= 0.774, std= 0.035\n"
     ]
    }
   ],
   "source": [
    "kf = model_selection.KFold(n_splits=5, shuffle=True)\n",
    "rmse = []\n",
    "r2 = []\n",
    "for train_index, test_index in kf.split(day_df_registered):\n",
    "    X_train, X_test = X_registered.iloc[train_index], X_registered.iloc[test_index]\n",
    "    y_train, y_test = Y_registered.iloc[train_index], Y_registered.iloc[test_index]\n",
    "    knn_registered.fit(X_train, y_train)\n",
    "    y_pred = knn_registered.predict(X_test)\n",
    "    rmse.append(np.sqrt(metrics.mean_squared_error(y_test, y_pred)))\n",
    "    r2.append(knn_registered.score(X_test, y_test))\n",
    "print(f'RMSE: mean= {np.mean(rmse).round(3)}, std= {np.std(rmse).round(3)}')\n",
    "print(f'R^2 score: mean= {np.mean(r2).round(3)}, std= {np.std(r2).round(3)}')"
   ]
  },
  {
   "cell_type": "code",
   "execution_count": 35,
   "id": "0c8f92a0",
   "metadata": {},
   "outputs": [
    {
     "data": {
      "image/png": "[encoded data removed]",
      "text/plain": [
       "<Figure size 432x288 with 1 Axes>"
      ]
     },
     "metadata": {
      "needs_background": "light"
     },
     "output_type": "display_data"
    }
   ],
   "source": [
    "plt.scatter(y_test, y_pred);"
   ]
  },
  {
   "cell_type": "markdown",
   "id": "24e01c49",
   "metadata": {},
   "source": [
    "### Linear Regression"
   ]
  },
  {
   "cell_type": "code",
   "execution_count": 36,
   "id": "c9e84a1f",
   "metadata": {},
   "outputs": [],
   "source": [
    "reg_registered = linear_model.LinearRegression()"
   ]
  },
  {
   "cell_type": "code",
   "execution_count": 37,
   "id": "48823b36",
   "metadata": {},
   "outputs": [
    {
     "name": "stdout",
     "output_type": "stream",
     "text": [
      "RMSE: mean= 682.127, std= 44.201\n",
      "R^2 score: mean= 0.805, std= 0.039\n"
     ]
    }
   ],
   "source": [
    "kf = model_selection.KFold(n_splits=5, shuffle=True)\n",
    "rmse = []\n",
    "r2 = []\n",
    "for train_index, test_index in kf.split(day_df_registered):\n",
    "    X_train, X_test = X_registered.iloc[train_index], X_registered.iloc[test_index]\n",
    "    y_train, y_test = Y_registered.iloc[train_index], Y_registered.iloc[test_index]\n",
    "    reg_registered.fit(X_train, y_train)\n",
    "    y_pred = reg_registered.predict(X_test)\n",
    "    rmse.append(np.sqrt(metrics.mean_squared_error(y_test, y_pred)))\n",
    "    r2.append(reg_registered.score(X_test, y_test))\n",
    "print(f'RMSE: mean= {np.mean(rmse).round(3)}, std= {np.std(rmse).round(3)}')\n",
    "print(f'R^2 score: mean= {np.mean(r2).round(3)}, std= {np.std(r2).round(3)}')"
   ]
  },
  {
   "cell_type": "markdown",
   "id": "50eca494",
   "metadata": {},
   "source": [
    "#### iii. total ridership count"
   ]
  },
  {
   "cell_type": "code",
   "execution_count": 38,
   "id": "c80aae34",
   "metadata": {},
   "outputs": [],
   "source": [
    "day_df_count = day_df.copy()\n",
    "X_count = day_df_count.drop(['count', 'registered', 'casual'], axis=1)\n",
    "Y_count = day_df_count['count']\n",
    "# print(X)\n",
    "# print(Y)"
   ]
  },
  {
   "cell_type": "markdown",
   "id": "46965d2b",
   "metadata": {},
   "source": [
    "### KNN Regression"
   ]
  },
  {
   "cell_type": "code",
   "execution_count": 39,
   "id": "16ed4c85",
   "metadata": {},
   "outputs": [],
   "source": [
    "knn_count = neighbors.KNeighborsRegressor(n_neighbors=5, weights='uniform')"
   ]
  },
  {
   "cell_type": "markdown",
   "id": "53672cbe",
   "metadata": {},
   "source": [
    "#### as a practice we try kfold model selection method"
   ]
  },
  {
   "cell_type": "code",
   "execution_count": 40,
   "id": "91fb771a",
   "metadata": {
    "scrolled": true
   },
   "outputs": [
    {
     "name": "stdout",
     "output_type": "stream",
     "text": [
      "RMSE: mean= 964.639, std= 51.333\n",
      "R^2 score: mean= 0.749, std= 0.023\n"
     ]
    }
   ],
   "source": [
    "kf = model_selection.KFold(n_splits=5, shuffle=True)\n",
    "rmse = []\n",
    "r2 = []\n",
    "for train_index, test_index in kf.split(day_df_count):\n",
    "#     print(\"TRAIN:\", train_index[:5], \"TEST:\", test_index[:5])\n",
    "    X_train, X_test = X_count.iloc[train_index], X_count.iloc[test_index]\n",
    "    y_train, y_test = Y_count.iloc[train_index], Y_count.iloc[test_index]\n",
    "    knn_count.fit(X_train, y_train)\n",
    "    y_pred = knn_count.predict(X_test)\n",
    "    rmse.append(np.sqrt(metrics.mean_squared_error(y_test, y_pred)))\n",
    "    r2.append(knn_count.score(X_test, y_test))\n",
    "print(f'RMSE: mean= {np.mean(rmse).round(3)}, std= {np.std(rmse).round(3)}')\n",
    "print(f'R^2 score: mean= {np.mean(r2).round(3)}, std= {np.std(r2).round(3)}')"
   ]
  },
  {
   "cell_type": "code",
   "execution_count": 41,
   "id": "b90bd9e0",
   "metadata": {},
   "outputs": [
    {
     "data": {
      "image/png": "[encoded data removed]",
      "text/plain": [
       "<Figure size 432x288 with 1 Axes>"
      ]
     },
     "metadata": {
      "needs_background": "light"
     },
     "output_type": "display_data"
    }
   ],
   "source": [
    "plt.scatter(y_test, y_pred);"
   ]
  },
  {
   "cell_type": "markdown",
   "id": "ec096f75",
   "metadata": {},
   "source": [
    "### Linear Regression"
   ]
  },
  {
   "cell_type": "code",
   "execution_count": 42,
   "id": "9c3aad74",
   "metadata": {},
   "outputs": [],
   "source": [
    "reg_count = linear_model.LinearRegression()"
   ]
  },
  {
   "cell_type": "code",
   "execution_count": 43,
   "id": "df80aa3c",
   "metadata": {},
   "outputs": [
    {
     "name": "stdout",
     "output_type": "stream",
     "text": [
      "RMSE: mean= 881.571, std= 45.323\n",
      "R^2 score: mean= 0.791, std= 0.027\n"
     ]
    }
   ],
   "source": [
    "kf = model_selection.KFold(n_splits=5, shuffle=True)\n",
    "rmse = []\n",
    "r2 = []\n",
    "for train_index, test_index in kf.split(day_df_count):\n",
    "#     print(\"TRAIN:\", train_index[:5], \"TEST:\", test_index[:5])\n",
    "    X_train, X_test = X_count.iloc[train_index], X_count.iloc[test_index]\n",
    "    y_train, y_test = Y_count.iloc[train_index], Y_count.iloc[test_index]\n",
    "    reg_count.fit(X_train, y_train)\n",
    "    y_pred = reg_count.predict(X_test)\n",
    "    rmse.append(np.sqrt(metrics.mean_squared_error(y_test, y_pred)))\n",
    "    r2.append(reg_count.score(X_test, y_test))\n",
    "print(f'RMSE: mean= {np.mean(rmse).round(3)}, std= {np.std(rmse).round(3)}')\n",
    "print(f'R^2 score: mean= {np.mean(r2).round(3)}, std= {np.std(r2).round(3)}')"
   ]
  },
  {
   "cell_type": "code",
   "execution_count": 44,
   "id": "746e91e0",
   "metadata": {},
   "outputs": [
    {
     "data": {
      "image/png": "[encoded data removed]",
      "text/plain": [
       "<Figure size 432x288 with 1 Axes>"
      ]
     },
     "metadata": {
      "needs_background": "light"
     },
     "output_type": "display_data"
    }
   ],
   "source": [
    "plt.scatter(y_test,y_pred);"
   ]
  },
  {
   "cell_type": "markdown",
   "id": "876fe435",
   "metadata": {},
   "source": [
    "#### Using only hour.csv\n",
    "#### i. the number of casual riders"
   ]
  },
  {
   "cell_type": "code",
   "execution_count": 45,
   "id": "49dda6e4",
   "metadata": {},
   "outputs": [],
   "source": [
    "hour_df_casual = hour_df.copy()\n",
    "X_casual_h = hour_df_casual.drop(['count', 'registered', 'casual'], axis=1)\n",
    "Y_casual_h = hour_df_casual['casual']"
   ]
  },
  {
   "cell_type": "markdown",
   "id": "5c595f3c",
   "metadata": {},
   "source": [
    "### KNN Regression"
   ]
  },
  {
   "cell_type": "code",
   "execution_count": 46,
   "id": "58e6b4f2",
   "metadata": {},
   "outputs": [],
   "source": [
    "knn_casual_h = neighbors.KNeighborsRegressor(n_neighbors=5, weights='uniform')"
   ]
  },
  {
   "cell_type": "code",
   "execution_count": 47,
   "id": "fdf90bdf",
   "metadata": {},
   "outputs": [
    {
     "name": "stdout",
     "output_type": "stream",
     "text": [
      "RMSE: mean= 18.279, std= 0.6\n",
      "R^2 score: mean= 0.862, std= 0.007\n"
     ]
    }
   ],
   "source": [
    "kf = model_selection.KFold(n_splits=5, shuffle=True)\n",
    "rmse = []\n",
    "r2 = []\n",
    "for train_index, test_index in kf.split(hour_df_casual):\n",
    "#     print(\"TRAIN:\", train_index[:5], \"TEST:\", test_index[:5])\n",
    "    X_train, X_test = X_casual_h.iloc[train_index], X_casual_h.iloc[test_index]\n",
    "    y_train, y_test = Y_casual_h.iloc[train_index], Y_casual_h.iloc[test_index]\n",
    "    knn_casual_h.fit(X_train, y_train)\n",
    "    y_pred = knn_casual_h.predict(X_test)\n",
    "    rmse.append(np.sqrt(metrics.mean_squared_error(y_test, y_pred)))\n",
    "    r2.append(knn_casual_h.score(X_test, y_test))\n",
    "print(f'RMSE: mean= {np.mean(rmse).round(3)}, std= {np.std(rmse).round(3)}')\n",
    "print(f'R^2 score: mean= {np.mean(r2).round(3)}, std= {np.std(r2).round(3)}')"
   ]
  },
  {
   "cell_type": "code",
   "execution_count": 48,
   "id": "9bc518e9",
   "metadata": {},
   "outputs": [
    {
     "data": {
      "image/png": "[encoded data removed]",
      "text/plain": [
       "<Figure size 432x288 with 1 Axes>"
      ]
     },
     "metadata": {
      "needs_background": "light"
     },
     "output_type": "display_data"
    }
   ],
   "source": [
    "plt.scatter(y_test, y_pred);"
   ]
  },
  {
   "cell_type": "markdown",
   "id": "62df7f10",
   "metadata": {},
   "source": [
    "### Linear Regression"
   ]
  },
  {
   "cell_type": "code",
   "execution_count": 49,
   "id": "757f1b74",
   "metadata": {},
   "outputs": [],
   "source": [
    "reg_casual_h = linear_model.LinearRegression()"
   ]
  },
  {
   "cell_type": "code",
   "execution_count": 50,
   "id": "ce8555c1",
   "metadata": {},
   "outputs": [
    {
     "name": "stdout",
     "output_type": "stream",
     "text": [
      "RMSE: mean= 36.384, std= 1.094\n",
      "R^2 score: mean= 0.455, std= 0.01\n"
     ]
    }
   ],
   "source": [
    "kf = model_selection.KFold(n_splits=5, shuffle=True)\n",
    "rmse = []\n",
    "r2 = []\n",
    "for train_index, test_index in kf.split(hour_df_casual):\n",
    "#     print(\"TRAIN:\", train_index[:5], \"TEST:\", test_index[:5])\n",
    "    X_train, X_test = X_casual_h.iloc[train_index], X_casual_h.iloc[test_index]\n",
    "    y_train, y_test = Y_casual_h.iloc[train_index], Y_casual_h.iloc[test_index]\n",
    "    reg_casual_h.fit(X_train, y_train)\n",
    "    y_pred = reg_casual_h.predict(X_test)\n",
    "    rmse.append(np.sqrt(metrics.mean_squared_error(y_test, y_pred)))\n",
    "    r2.append(reg_casual_h.score(X_test, y_test))\n",
    "print(f'RMSE: mean= {np.mean(rmse).round(3)}, std= {np.std(rmse).round(3)}')\n",
    "print(f'R^2 score: mean= {np.mean(r2).round(3)}, std= {np.std(r2).round(3)}')"
   ]
  },
  {
   "cell_type": "code",
   "execution_count": 51,
   "id": "d5228348",
   "metadata": {},
   "outputs": [
    {
     "data": {
      "image/png": "[encoded data removed]",
      "text/plain": [
       "<Figure size 432x288 with 1 Axes>"
      ]
     },
     "metadata": {
      "needs_background": "light"
     },
     "output_type": "display_data"
    }
   ],
   "source": [
    "plt.scatter(y_test, y_pred);"
   ]
  },
  {
   "cell_type": "markdown",
   "id": "84b5eb6e",
   "metadata": {},
   "source": [
    "#### ii. the number of registered riders"
   ]
  },
  {
   "cell_type": "code",
   "execution_count": 52,
   "id": "35f411c0",
   "metadata": {},
   "outputs": [],
   "source": [
    "hour_df_registered = hour_df.copy()\n",
    "X_registered_h = hour_df_registered.drop(['registered', 'casual', 'count'], axis=1)\n",
    "Y_registered_h = hour_df_registered['registered']"
   ]
  },
  {
   "cell_type": "markdown",
   "id": "407fb6d6",
   "metadata": {},
   "source": [
    "### KNN Regression"
   ]
  },
  {
   "cell_type": "code",
   "execution_count": 53,
   "id": "f7e26dcd",
   "metadata": {},
   "outputs": [],
   "source": [
    "knn_registered_h = neighbors.KNeighborsRegressor(n_neighbors=5, weights='uniform')"
   ]
  },
  {
   "cell_type": "code",
   "execution_count": 54,
   "id": "1d2d33ab",
   "metadata": {},
   "outputs": [
    {
     "name": "stdout",
     "output_type": "stream",
     "text": [
      "RMSE: mean= 45.761, std= 1.032\n",
      "R^2 score: mean= 0.909, std= 0.004\n"
     ]
    }
   ],
   "source": [
    "kf = model_selection.KFold(n_splits=5, shuffle=True)\n",
    "rmse = []\n",
    "r2 = []\n",
    "for train_index, test_index in kf.split(hour_df_registered):\n",
    "#     print(\"TRAIN:\", train_index[:5], \"TEST:\", test_index[:5])\n",
    "    X_train, X_test = X_registered_h.iloc[train_index], X_registered_h.iloc[test_index]\n",
    "    y_train, y_test = Y_registered_h.iloc[train_index], Y_registered_h.iloc[test_index]\n",
    "    knn_registered_h.fit(X_train, y_train)\n",
    "    y_pred = knn_registered_h.predict(X_test)\n",
    "    rmse.append(np.sqrt(metrics.mean_squared_error(y_test, y_pred)))\n",
    "    r2.append(knn_registered_h.score(X_test, y_test))\n",
    "print(f'RMSE: mean= {np.mean(rmse).round(3)}, std= {np.std(rmse).round(3)}')\n",
    "print(f'R^2 score: mean= {np.mean(r2).round(3)}, std= {np.std(r2).round(3)}')"
   ]
  },
  {
   "cell_type": "code",
   "execution_count": 55,
   "id": "789fa4c6",
   "metadata": {},
   "outputs": [
    {
     "data": {
      "image/png": "[encoded data removed]",
      "text/plain": [
       "<Figure size 432x288 with 1 Axes>"
      ]
     },
     "metadata": {
      "needs_background": "light"
     },
     "output_type": "display_data"
    }
   ],
   "source": [
    "plt.scatter(y_test, y_pred);"
   ]
  },
  {
   "cell_type": "markdown",
   "id": "cdcda852",
   "metadata": {},
   "source": [
    "### Linear Regression"
   ]
  },
  {
   "cell_type": "code",
   "execution_count": 56,
   "id": "7ca77d71",
   "metadata": {},
   "outputs": [],
   "source": [
    "reg_registered_h = linear_model.LinearRegression()"
   ]
  },
  {
   "cell_type": "code",
   "execution_count": 57,
   "id": "2d59e0af",
   "metadata": {},
   "outputs": [
    {
     "name": "stdout",
     "output_type": "stream",
     "text": [
      "RMSE: mean= 123.467, std= 1.429\n",
      "R^2 score: mean= 0.334, std= 0.009\n"
     ]
    }
   ],
   "source": [
    "kf = model_selection.KFold(n_splits=5, shuffle=True)\n",
    "rmse = []\n",
    "r2 = []\n",
    "for train_index, test_index in kf.split(hour_df_registered):\n",
    "#     print(\"TRAIN:\", train_index[:5], \"TEST:\", test_index[:5])\n",
    "    X_train, X_test = X_registered_h.iloc[train_index], X_registered_h.iloc[test_index]\n",
    "    y_train, y_test = Y_registered_h.iloc[train_index], Y_registered_h.iloc[test_index]\n",
    "    reg_registered_h.fit(X_train, y_train)\n",
    "    y_pred = reg_registered_h.predict(X_test)\n",
    "    rmse.append(np.sqrt(metrics.mean_squared_error(y_test, y_pred)))\n",
    "    r2.append(reg_registered_h.score(X_test, y_test))\n",
    "print(f'RMSE: mean= {np.mean(rmse).round(3)}, std= {np.std(rmse).round(3)}')\n",
    "print(f'R^2 score: mean= {np.mean(r2).round(3)}, std= {np.std(r2).round(3)}')"
   ]
  },
  {
   "cell_type": "code",
   "execution_count": 58,
   "id": "a8846cb3",
   "metadata": {},
   "outputs": [
    {
     "data": {
      "image/png": "[encoded data removed]",
      "text/plain": [
       "<Figure size 432x288 with 1 Axes>"
      ]
     },
     "metadata": {
      "needs_background": "light"
     },
     "output_type": "display_data"
    }
   ],
   "source": [
    "plt.scatter(y_test, y_pred);"
   ]
  },
  {
   "cell_type": "markdown",
   "id": "a91da761",
   "metadata": {},
   "source": [
    "#### iii. total ridership count"
   ]
  },
  {
   "cell_type": "code",
   "execution_count": 59,
   "id": "6deb467c",
   "metadata": {},
   "outputs": [],
   "source": [
    "hour_df_count = hour_df.copy()\n",
    "X_count_h = hour_df_count.drop(['count', 'registered', 'casual'], axis=1)\n",
    "Y_count_h = hour_df_count['count']"
   ]
  },
  {
   "cell_type": "markdown",
   "id": "c9cdac3c",
   "metadata": {},
   "source": [
    "### KNN Regression"
   ]
  },
  {
   "cell_type": "code",
   "execution_count": 60,
   "id": "5e47b8ad",
   "metadata": {},
   "outputs": [],
   "source": [
    "knn_count_h = neighbors.KNeighborsRegressor(n_neighbors=5, weights='uniform')"
   ]
  },
  {
   "cell_type": "code",
   "execution_count": 61,
   "id": "8a059184",
   "metadata": {},
   "outputs": [
    {
     "name": "stdout",
     "output_type": "stream",
     "text": [
      "RMSE: mean= 54.455, std= 0.509\n",
      "R^2 score: mean= 0.91, std= 0.005\n"
     ]
    }
   ],
   "source": [
    "kf = model_selection.KFold(n_splits=5, shuffle=True)\n",
    "rmse = []\n",
    "r2 = []\n",
    "for train_index, test_index in kf.split(hour_df_count):\n",
    "#     print(\"TRAIN:\", train_index[:5], \"TEST:\", test_index[:5])\n",
    "    X_train, X_test = X_count_h.iloc[train_index], X_count_h.iloc[test_index]\n",
    "    y_train, y_test = Y_count_h.iloc[train_index], Y_count_h.iloc[test_index]\n",
    "    knn_count_h.fit(X_train, y_train)\n",
    "    y_pred = knn_count_h.predict(X_test)\n",
    "    rmse.append(np.sqrt(metrics.mean_squared_error(y_test, y_pred)))\n",
    "    r2.append(knn_count_h.score(X_test, y_test))\n",
    "print(f'RMSE: mean= {np.mean(rmse).round(3)}, std= {np.std(rmse).round(3)}')\n",
    "print(f'R^2 score: mean= {np.mean(r2).round(3)}, std= {np.std(r2).round(3)}')"
   ]
  },
  {
   "cell_type": "code",
   "execution_count": 62,
   "id": "31d58fcc",
   "metadata": {},
   "outputs": [
    {
     "data": {
      "image/png": "[encoded data removed]",
      "text/plain": [
       "<Figure size 432x288 with 1 Axes>"
      ]
     },
     "metadata": {
      "needs_background": "light"
     },
     "output_type": "display_data"
    }
   ],
   "source": [
    "plt.scatter(y_test, y_pred);"
   ]
  },
  {
   "cell_type": "markdown",
   "id": "12b6aa2c",
   "metadata": {},
   "source": [
    "### Linear Regression"
   ]
  },
  {
   "cell_type": "code",
   "execution_count": 63,
   "id": "6215524d",
   "metadata": {},
   "outputs": [],
   "source": [
    "reg_count_h = linear_model.LinearRegression()"
   ]
  },
  {
   "cell_type": "code",
   "execution_count": 64,
   "id": "6362b396",
   "metadata": {},
   "outputs": [
    {
     "name": "stdout",
     "output_type": "stream",
     "text": [
      "RMSE: mean= 141.845, std= 0.97\n",
      "R^2 score: mean= 0.388, std= 0.009\n"
     ]
    }
   ],
   "source": [
    "kf = model_selection.KFold(n_splits=5, shuffle=True)\n",
    "rmse = []\n",
    "r2 = []\n",
    "for train_index, test_index in kf.split(hour_df_count):\n",
    "#     print(\"TRAIN:\", train_index[:5], \"TEST:\", test_index[:5])\n",
    "    X_train, X_test = X_count_h.iloc[train_index], X_count_h.iloc[test_index]\n",
    "    y_train, y_test = Y_count_h.iloc[train_index], Y_count_h.iloc[test_index]\n",
    "    reg_count_h.fit(X_train, y_train)\n",
    "    y_pred = reg_count_h.predict(X_test)\n",
    "    rmse.append(np.sqrt(metrics.mean_squared_error(y_test, y_pred)))\n",
    "    r2.append(reg_count_h.score(X_test, y_test))\n",
    "\n",
    "print(f'RMSE: mean= {np.mean(rmse).round(3)}, std= {np.std(rmse).round(3)}')\n",
    "print(f'R^2 score: mean= {np.mean(r2).round(3)}, std= {np.std(r2).round(3)}')"
   ]
  },
  {
   "cell_type": "code",
   "execution_count": 65,
   "id": "8884a316",
   "metadata": {},
   "outputs": [
    {
     "data": {
      "image/png": "[encoded data removed]",
      "text/plain": [
       "<Figure size 432x288 with 1 Axes>"
      ]
     },
     "metadata": {
      "needs_background": "light"
     },
     "output_type": "display_data"
    }
   ],
   "source": [
    "plt.scatter(y_test, y_pred);"
   ]
  },
  {
   "cell_type": "code",
   "execution_count": null,
   "id": "893d6e04",
   "metadata": {},
   "outputs": [],
   "source": []
  }
 ],
 "metadata": {
  "kernelspec": {
   "display_name": "Python 3 (ipykernel)",
   "language": "python",
   "name": "python3"
  },
  "language_info": {
   "codemirror_mode": {
    "name": "ipython",
    "version": 3
   },
   "file_extension": ".py",
   "mimetype": "text/x-python",
   "name": "python",
   "nbconvert_exporter": "python",
   "pygments_lexer": "ipython3",
   "version": "3.9.12"
  }
 },
 "nbformat": 4,
 "nbformat_minor": 5
}
